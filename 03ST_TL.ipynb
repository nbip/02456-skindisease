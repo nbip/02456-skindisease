{
 "cells": [
  {
   "cell_type": "markdown",
   "metadata": {},
   "source": [
    "# Combination of Spatial Transformer and VGG16\n",
    "Download the VGG16 weights to the folder \"checkpoints\" from this source:\n",
    "\n",
    "https://github.com/tensorflow/models/tree/master/research/slim\n",
    "\n",
    "The data should be stored as follows\n",
    "\n",
    ".../train<pre>\n",
    "/pso\n",
    "/ecz\n",
    "</pre>\n",
    ".../validation <pre>\n",
    "/pso  \n",
    "/ecz \n",
    "</pre>\n",
    ".../test<pre>\n",
    "/pso  \n",
    "/ecz  \n",
    "</pre>\n"
   ]
  },
  {
   "cell_type": "code",
   "execution_count": 1,
   "metadata": {
    "collapsed": false
   },
   "outputs": [
    {
     "name": "stderr",
     "output_type": "stream",
     "text": [
      "/home/nbip/.conda/envs/tf/lib/python3.6/importlib/_bootstrap.py:219: RuntimeWarning: compiletime version 3.5 of module 'tensorflow.python.framework.fast_tensor_util' does not match runtime version 3.6\n",
      "  return f(*args, **kwds)\n"
     ]
    }
   ],
   "source": [
    "# for specifying which GPU to use\n",
    "import os\n",
    "os.environ[\"CUDA_DEVICE_ORDER\"]=\"PCI_BUS_ID\"\n",
    "os.environ[\"CUDA_VISIBLE_DEVICES\"]=\"4\"\n",
    "\n",
    "import tensorflow as tf"
   ]
  },
  {
   "cell_type": "code",
   "execution_count": 2,
   "metadata": {
    "collapsed": false
   },
   "outputs": [
    {
     "name": "stderr",
     "output_type": "stream",
     "text": [
      "Using TensorFlow backend.\n"
     ]
    }
   ],
   "source": [
    "import glob\n",
    "%matplotlib inline\n",
    "import numpy as np\n",
    "import matplotlib.pyplot as plt\n",
    "from keras.preprocessing.image import load_img, img_to_array\n",
    "from skimage.transform import resize\n",
    "from random import shuffle\n",
    "import pickle\n",
    "import datetime\n",
    "from keras.preprocessing.image import ImageDataGenerator\n",
    "from keras.applications.vgg16 import preprocess_input"
   ]
  },
  {
   "cell_type": "markdown",
   "metadata": {},
   "source": [
    "## Visualize the input"
   ]
  },
  {
   "cell_type": "code",
   "execution_count": 9,
   "metadata": {
    "collapsed": true
   },
   "outputs": [],
   "source": [
    "DIM = 224\n",
    "nchannels = 3\n",
    "img_height, img_width = DIM, DIM\n",
    "NUM_CLASSES = 2\n",
    "NUM_EPOCHS = 50\n",
    "BATCH_SIZE = 100 # batch size of 128 is too big when training the full model (the FC or STN alone is okay)\n",
    "# channel means subtracted in the prerocessing step can be found here \n",
    "# https://github.com/tensorflow/models/blob/master/research/slim/preprocessing/vgg_preprocessing.py"
   ]
  },
  {
   "cell_type": "code",
   "execution_count": 5,
   "metadata": {
    "collapsed": true
   },
   "outputs": [],
   "source": [
    "checkpoints_dir =          # path to the VGG16 weights\n",
    "train_data_dir =           # path to the train data directory\n",
    "validation_data_dir =      # path to the validation data directory\n",
    "test_data_dir =            # path to the test data directory\n",
    "tensorboard_dir =          # path to the tensorboard directory\n",
    "\n",
    "train_pso = glob.glob(train_data_dir + \"/pso/*.png\")\n",
    "train_ecz = glob.glob(train_data_dir + \"/ecz/*.png\")\n",
    "val_pso = glob.glob(validation_data_dir + \"/pso/*.png\")\n",
    "val_ecz = glob.glob(validation_data_dir + \"/ecz/*.png\")"
   ]
  },
  {
   "cell_type": "code",
   "execution_count": 11,
   "metadata": {
    "collapsed": false
   },
   "outputs": [
    {
     "name": "stdout",
     "output_type": "stream",
     "text": [
      "Found 40000 images belonging to 2 classes.\n",
      "Found 4000 images belonging to 2 classes.\n"
     ]
    }
   ],
   "source": [
    "datagen = ImageDataGenerator(\n",
    "    rescale=1. / 255,\n",
    "    preprocessing_function = preprocess_input\n",
    ")\n",
    "\n",
    "train_generator = datagen.flow_from_directory(\n",
    "        train_data_dir,  \n",
    "        target_size=(img_height, img_width),  \n",
    "        batch_size=BATCH_SIZE,\n",
    "        class_mode='categorical')  \n",
    "\n",
    "validation_generator = datagen.flow_from_directory(\n",
    "        validation_data_dir,\n",
    "        target_size=(img_height, img_width),\n",
    "        batch_size=BATCH_SIZE,\n",
    "        class_mode='categorical')"
   ]
  },
  {
   "cell_type": "markdown",
   "metadata": {},
   "source": [
    "## Visualize the input"
   ]
  },
  {
   "cell_type": "code",
   "execution_count": null,
   "metadata": {
    "collapsed": false
   },
   "outputs": [],
   "source": [
    "n = 4\n",
    "dummy_batch_size = n*n\n",
    "\n",
    "x_batch, y_batch = train_generator.next()\n",
    "\n",
    "idx = 0\n",
    "canvas = np.zeros((DIM*n, n*DIM, nchannels))\n",
    "for i in range(n):\n",
    "    for j in range(n):\n",
    "        img = x_batch[idx]\n",
    "        mi = np.min(img)\n",
    "        img = img - mi\n",
    "        ma = np.max(img)\n",
    "        img = img / ma\n",
    "        canvas[i*DIM:(i+1)*DIM, j*DIM:(j+1)*DIM] = img\n",
    "        idx += 1\n",
    "plt.figure(figsize=(10, 10))\n",
    "plt.imshow(canvas, cmap='gray')\n",
    "plt.title('canvas of {0}x{0} images'.format(DIM))\n",
    "plt.axis('off')\n",
    "\n",
    "plt.show()\n"
   ]
  },
  {
   "cell_type": "markdown",
   "metadata": {},
   "source": [
    "# Dependencies and supporting functions"
   ]
  },
  {
   "cell_type": "code",
   "execution_count": 18,
   "metadata": {
    "collapsed": true
   },
   "outputs": [],
   "source": [
    "import os\n",
    "import matplotlib\n",
    "np.random.seed(123)\n",
    "import tensorflow as tf\n",
    "\n",
    "import os\n",
    "import sys\n",
    "sys.path.append(os.path.join('.', '..')) \n",
    "from spatial_transformer import transformer\n",
    "\n",
    "from tensorflow.contrib.layers import fully_connected, convolution2d, flatten, max_pool2d, dropout\n",
    "pool = max_pool2d\n",
    "conv = convolution2d\n",
    "dense = fully_connected\n",
    "from tensorflow.python.ops.nn import relu, softmax\n",
    "from tensorflow.python.framework.ops import reset_default_graph\n",
    "from tensorflow.contrib import slim\n",
    "from tensorflow.contrib.slim.nets import vgg\n",
    "slim = tf.contrib.slim"
   ]
  },
  {
   "cell_type": "markdown",
   "metadata": {},
   "source": [
    "## Build the Spatial Transformer"
   ]
  },
  {
   "cell_type": "code",
   "execution_count": 19,
   "metadata": {
    "collapsed": true
   },
   "outputs": [],
   "source": [
    "def build_STN_model(x_pl, input_width, input_height, output_dim):\n",
    "    \n",
    "    # set up weights for transformation (notice we always need 6 output neurons)\n",
    "    with tf.name_scope(\"localization\"):\n",
    "        \n",
    "        # convert from RGB to HSV\n",
    "        hsv_image = tf.image.rgb_to_hsv(x_pl)\n",
    "    \n",
    "        # make distributed representation of input image for localization network\n",
    "        loc_l1 = pool(hsv_image, kernel_size=[2, 2], scope=\"localization_l1\")\n",
    "        loc_l2 = conv(loc_l1, num_outputs=8, kernel_size=[5, 5], stride=[1, 1], padding=\"SAME\", scope=\"localization_l2\")\n",
    "        loc_l3 = pool(loc_l2, kernel_size=[2, 2], scope=\"localization_l3\")\n",
    "        loc_l4 = conv(loc_l3, num_outputs=16, kernel_size=[5, 5], stride=[1, 1], padding=\"SAME\", scope=\"localization_l4\")\n",
    "        loc_l4_flatten = flatten(loc_l4, scope=\"localization_l4-flatten\")\n",
    "        loc_l5 = dense(loc_l4_flatten, num_outputs=50, activation_fn=relu, scope=\"localization_l5\")\n",
    "\n",
    "\n",
    "        W_loc_out = tf.get_variable(\"localization_loc-out\", [50, 6], initializer=tf.constant_initializer(0.0))\n",
    "        initial = np.array([[1, 0, 0], [0, 1, 0]])\n",
    "        initial = initial.astype('float32')\n",
    "        initial = initial.flatten()\n",
    "        b_loc_out = tf.Variable(initial_value=initial, name='b-loc-out')\n",
    "        loc_out = tf.matmul(loc_l5, W_loc_out) + b_loc_out\n",
    "\n",
    "    # spatial transformer\n",
    "    l_trans1 = transformer(x_pl, loc_out, out_size=(DIM, DIM))\n",
    "    l_trans1.set_shape([None, DIM, DIM, nchannels])\n",
    "\n",
    "    print( \"Transformer network output shape: \", l_trans1.get_shape())\n",
    "\n",
    "    return l_trans1, loc_out, hsv_image"
   ]
  },
  {
   "cell_type": "markdown",
   "metadata": {},
   "source": [
    "## Build the VGG16 model"
   ]
  },
  {
   "cell_type": "code",
   "execution_count": 21,
   "metadata": {
    "collapsed": true
   },
   "outputs": [],
   "source": [
    "def build_VGG_model(inputs, is_training=True):\n",
    "    inputs = tf.cast(inputs, tf.float32)\n",
    "    #Use Pretrained Base Model\n",
    "    with tf.variable_scope(\"vgg_16\"):\n",
    "        with slim.arg_scope(vgg.vgg_arg_scope()):\n",
    "            net = slim.repeat(inputs, 2, slim.conv2d, 64, [3, 3], scope='conv1')\n",
    "            net = slim.max_pool2d(net, [2, 2], scope='pool1')\n",
    "            net = slim.repeat(net, 2, slim.conv2d, 128, [3, 3], scope='conv2')\n",
    "            net2 = slim.max_pool2d(net, [2, 2], scope='pool2')\n",
    "            net = slim.repeat(net2, 3, slim.conv2d, 256, [3, 3], scope='conv3')\n",
    "            net = slim.max_pool2d(net, [2, 2], scope='pool3')\n",
    "            net = slim.repeat(net, 3, slim.conv2d, 512, [3, 3], scope='conv4')\n",
    "            net = slim.max_pool2d(net, [2, 2], scope='pool4')\n",
    "            net = slim.repeat(net, 3, slim.conv2d, 512, [3, 3], scope='conv5')\n",
    "            net = slim.max_pool2d(net, [2, 2], scope='pool5')\n",
    "    #Append fully connected layer\n",
    "    fc = slim.flatten(net)\n",
    "    fc = slim.fully_connected(fc, 256,\n",
    "            weights_initializer=tf.contrib.layers.xavier_initializer(),\n",
    "            weights_regularizer=slim.l2_regularizer(0.5),\n",
    "            scope='finetune/fc1')\n",
    "    fc = slim.dropout(fc, 0.5)\n",
    "    fc_out= slim.fully_connected(fc, 2,\n",
    "            activation_fn=tf.nn.softmax,\n",
    "            weights_initializer=tf.contrib.layers.xavier_initializer(),\n",
    "            weights_regularizer=slim.l2_regularizer(0.5),\n",
    "            scope='finetune/fc2')\n",
    "    print( \"VGG model output shape: \", net.get_shape())\n",
    "    return net, fc_out, net2\n",
    "\n"
   ]
  },
  {
   "cell_type": "code",
   "execution_count": 22,
   "metadata": {
    "collapsed": true
   },
   "outputs": [],
   "source": [
    "def loss_and_acc(logits, labels):\n",
    "    with tf.name_scope(\"loss\"):\n",
    "        # weight the logits by the class imbalance\n",
    "        # computing cross entropy per sample\n",
    "        cross_entropy = -tf.reduce_sum(labels * tf.log(logits+1e-8), reduction_indices=[1])\n",
    "\n",
    "        # averaging over samples\n",
    "        cross_entropy = tf.reduce_mean(cross_entropy)\n",
    "        \n",
    "        # accuracy\n",
    "        argmax_logits = tf.to_int32(tf.argmax(logits, axis=1))\n",
    "        argmax_labels = tf.to_int32(tf.argmax(labels, axis=1))\n",
    "        correct = tf.to_float(tf.equal(argmax_logits, argmax_labels))\n",
    "        accuracy = tf.reduce_mean(correct)\n",
    "        \n",
    "        # precision\n",
    "        prec = tf.metrics.precision(argmax_labels, argmax_logits)\n",
    "        \n",
    "        # recall\n",
    "        rec = tf.metrics.recall(argmax_labels, argmax_logits)\n",
    "        \n",
    "        # AUC of the ROC\n",
    "        auc, update_op_auc = tf.metrics.auc(labels, logits)\n",
    "\n",
    "\n",
    "    return cross_entropy, accuracy, argmax_logits, prec, rec, update_op_auc\n",
    "        \n",
    "def optimize(losses, lr_pl, trainable_vars, g_step):\n",
    "    \n",
    "    # defining our optimizer\n",
    "    optimizer = tf.train.AdamOptimizer(learning_rate=lr_pl)\n",
    "\n",
    "    # applying the gradients\n",
    "    train_op = optimizer.minimize(losses, var_list=trainable_vars, global_step=g_step)\n",
    "    \n",
    "    return train_op"
   ]
  },
  {
   "cell_type": "markdown",
   "metadata": {},
   "source": [
    "## Stitch it together"
   ]
  },
  {
   "cell_type": "code",
   "execution_count": 23,
   "metadata": {
    "collapsed": false
   },
   "outputs": [
    {
     "name": "stdout",
     "output_type": "stream",
     "text": [
      "Transformer network output shape:  (?, 224, 224, 3)\n",
      "VGG model output shape:  (?, 7, 7, 512)\n"
     ]
    },
    {
     "data": {
      "text/plain": [
       "<tf.Tensor 'Evaluation/accuracy:0' shape=() dtype=string>"
      ]
     },
     "execution_count": 23,
     "metadata": {},
     "output_type": "execute_result"
    }
   ],
   "source": [
    "tf.reset_default_graph()\n",
    "\n",
    "# input images\n",
    "x_pl = tf.placeholder(tf.float32, [None, DIM, DIM, nchannels], name=\"input\")\n",
    "# corresponding labels as onehot encoding\n",
    "y_pl = tf.placeholder(tf.float32, shape=[None, NUM_CLASSES], name=\"output\")\n",
    "# learning rate placeholder\n",
    "lr_pl = tf.placeholder(tf.float32, shape=[], name=\"learning-rate\")\n",
    "# keep track of training steps. Incremements by 1 each time tf.optimizer.minimize is called\n",
    "global_step = tf.Variable(initial_value=0, trainable=False)  \n",
    "\n",
    "# the result of the transform, the weights used for the transform and the HSV image\n",
    "l_transform, w_transform, hsv = build_STN_model(x_pl, DIM, DIM, NUM_CLASSES)\n",
    "\n",
    "# The VGG16 model output and the logits from the fully connected layer on top\n",
    "vgg16_out, logits, vgg16_mid = build_VGG_model(l_transform)\n",
    "\n",
    "# define losses and training operation\n",
    "loss, accuracy, prediction, precision, recall, auc_op = loss_and_acc(logits, y_pl)\n",
    "\n",
    "# training fully connected layers \n",
    "trainable_vars1 = tf.get_collection(tf.GraphKeys.TRAINABLE_VARIABLES,\"finetune\")\n",
    "train_op1 = optimize(loss, lr_pl, trainable_vars1, global_step)\n",
    "\n",
    "# training fc + fine tuning VGG16 top layers\n",
    "trainable_vars2 = tf.get_collection(tf.GraphKeys.TRAINABLE_VARIABLES,\"vgg_16/conv5\")\n",
    "trainable_vars2.extend(trainable_vars1)\n",
    "train_op2 = optimize(loss, lr_pl, trainable_vars2, global_step)\n",
    "\n",
    "# training fc + STN\n",
    "trainable_vars3 = tf.get_collection(tf.GraphKeys.TRAINABLE_VARIABLES,\"localization\")\n",
    "trainable_vars3.extend(trainable_vars1)\n",
    "train_op3 = optimize(loss, lr_pl, trainable_vars3, global_step)\n",
    "\n",
    "# training STN + finetune + fc\n",
    "trainable_vars4 = tf.get_collection(tf.GraphKeys.TRAINABLE_VARIABLES,\"localization\")\n",
    "trainable_vars4.extend(trainable_vars2)\n",
    "train_op4 = optimize(loss, lr_pl, trainable_vars4, global_step)\n",
    "\n",
    "# training only STN\n",
    "trainable_vars5 = tf.get_collection(tf.GraphKeys.TRAINABLE_VARIABLES,\"localization\")\n",
    "train_op5 = optimize(loss, lr_pl, trainable_vars5, global_step)\n",
    "\n",
    "# add TensorBoard summaries for all variables\n",
    "tf.summary.merge_all()\n",
    "tf.summary.scalar('Evaluation/loss', loss)\n",
    "tf.summary.scalar('Evaluation/accuracy', accuracy)"
   ]
  },
  {
   "cell_type": "code",
   "execution_count": 24,
   "metadata": {
    "collapsed": false
   },
   "outputs": [
    {
     "name": "stdout",
     "output_type": "stream",
     "text": [
      "INFO:tensorflow:Restoring parameters from ./tmp/checkpoints/vgg_16.ckpt\n"
     ]
    }
   ],
   "source": [
    "# restricting memory usage, TensorFlow is greedy and will use all memory otherwise\n",
    "gpu_opts = tf.GPUOptions(per_process_gpu_memory_fraction=1)\n",
    "\n",
    "# initialize the Session\n",
    "sess = tf.Session(config=tf.ConfigProto(gpu_options=gpu_opts))\n",
    "sess.run(tf.global_variables_initializer())\n",
    "sess.run(tf.local_variables_initializer())  # this is needed for the precision and recall for some reason\n",
    "\n",
    "# restorethe VGG_16 weights from file\n",
    "restore = slim.assign_from_checkpoint_fn(\n",
    "               os.path.join(checkpoints_dir, 'vgg_16.ckpt'),\n",
    "               slim.get_model_variables(\"vgg_16\"))\n",
    "restore(sess)\n",
    "\n",
    "# Tensorboard\n",
    "file_writer = tf.summary.FileWriter(tensorboard_dir, sess.graph)\n",
    "# Make run-options\n",
    "run_options = tf.RunOptions(trace_level=tf.RunOptions.FULL_TRACE,\n",
    "                            output_partition_graphs=True)\n",
    "run_metadata = tf.RunMetadata()"
   ]
  },
  {
   "cell_type": "markdown",
   "metadata": {},
   "source": [
    "## Test the forward pass"
   ]
  },
  {
   "cell_type": "code",
   "execution_count": 25,
   "metadata": {
    "collapsed": false
   },
   "outputs": [
    {
     "name": "stdout",
     "output_type": "stream",
     "text": [
      "Forward pass successful!\n"
     ]
    }
   ],
   "source": [
    "x_batch, y_batch = train_generator.next()\n",
    "res = sess.run(fetches=logits, feed_dict={x_pl: x_batch})\n",
    "assert res.shape == (len(x_batch), 2), \"ERROR the output shape is not as expected!\" \\\n",
    "        + \" Output shape should be \" + str(y_pl.shape) + ' but was ' + str(res.shape)\n",
    "\n",
    "print('Forward pass successful!')"
   ]
  },
  {
   "cell_type": "markdown",
   "metadata": {},
   "source": [
    "## Do the training"
   ]
  },
  {
   "cell_type": "code",
   "execution_count": 29,
   "metadata": {
    "collapsed": true
   },
   "outputs": [],
   "source": [
    "# setup and write summaries\n",
    "timestamp = datetime.datetime.now().strftime(\"%Y%m%d-%H%M%S\")\n",
    "summaries_path = \"tensorboard/%s\" % (timestamp)\n",
    "summaries = tf.summary.merge_all()\n",
    "\n",
    "summarywriter_train = tf.summary.FileWriter(summaries_path + '/train', sess.graph)\n",
    "summarywriter_valid = tf.summary.FileWriter(summaries_path + '/valid', sess.graph)\n",
    "\n",
    "def train_epoch(learning_rate, training_op):\n",
    "    num_samples = train_generator.n\n",
    "    num_batches = int(np.ceil(num_samples / float(BATCH_SIZE)))\n",
    "    costs = []\n",
    "    accs = []\n",
    "    precs = []\n",
    "    recs = []\n",
    "    for i in range(num_batches):\n",
    "        if i % 10 == 0:\n",
    "            print(i, end=', ')\n",
    "        X_batch_tr, y_batch_tr = train_generator.next()\n",
    "        fetches_tr = [training_op, loss, accuracy, prediction, precision, recall, summaries, global_step, l_transform, w_transform, auc_op]\n",
    "        feed_dict_tr = {x_pl: X_batch_tr, y_pl: y_batch_tr, lr_pl: learning_rate}\n",
    "        res = sess.run(fetches=fetches_tr, feed_dict=feed_dict_tr)\n",
    "        costs += [res[1]]\n",
    "        accs += [res[2]]\n",
    "        recs += [res[4]]\n",
    "        precs += [res[5]]\n",
    "        summarywriter_train.add_summary(res[6], res[7])\n",
    "    print(\"\")    \n",
    "    auc = res[10] # the auc_op is calculated a running estimate of the auc, therefore we do not have to keep track of this for each batch\n",
    "    sess.run(tf.local_variables_initializer())  # since the auc is a running estimate we need to reset it after each epoch\n",
    "    return np.mean(costs), np.mean(accs), np.mean(precs), np.mean(recs), summaries, auc\n",
    "\n",
    "\n",
    "def eval_epoch():\n",
    "    num_samples = validation_generator.n\n",
    "    num_batches = int(np.ceil(num_samples / float(BATCH_SIZE)))\n",
    "    costs = []\n",
    "    accs = []\n",
    "    preds = []\n",
    "    precs = []\n",
    "    recs = []\n",
    "    \n",
    "    pred_list = []\n",
    "    y_list = []\n",
    "    transform_list = []\n",
    "    weight_list = []\n",
    "    for i in range(num_batches):\n",
    "        if i % 10 == 0:\n",
    "            print(i, end=', ')\n",
    "        X_batch_val, y_batch_val = validation_generator.next()\n",
    "        fetches_val = [loss, accuracy, prediction, precision, recall, summaries, global_step, l_transform, w_transform, auc_op]\n",
    "        feed_dict_val = {x_pl: X_batch_val, y_pl: y_batch_val}\n",
    "        res = sess.run(fetches=fetches_val, feed_dict=feed_dict_val)\n",
    "        costs += [res[0]]\n",
    "        accs += [res[1]]\n",
    "        preds += [res[2]]\n",
    "        precs += [res[3]]\n",
    "        recs += [res[4]]\n",
    "        summarywriter_valid.add_summary(res[5], res[6])\n",
    "    preds_ = np.concatenate(preds, axis=0)\n",
    "    auc = res[9] # the auc_op is calculated a running estimate of the auc, therefore we do not have to keep track of this for each batch\n",
    "    sess.run(tf.local_variables_initializer())  # since the auc is a running estimate we need to reset it after each epoch\n",
    "    print('')\n",
    "    return np.mean(costs), np.mean(accs), preds_, np.mean(precs), np.mean(recs), summaries, auc"
   ]
  },
  {
   "cell_type": "code",
   "execution_count": 30,
   "metadata": {
    "collapsed": false,
    "scrolled": true
   },
   "outputs": [
    {
     "name": "stdout",
     "output_type": "stream",
     "text": [
      "Number of epochs: 100\n",
      "Epoch 0:, \n",
      "train:, 0, 10, 20, 30, 40, 50, 60, 70, 80, 90, 100, 110, 120, 130, 140, 150, 160, 170, 180, 190, 200, 210, 220, 230, 240, 250, 260, 270, 280, 290, 300, 310, 320, 330, 340, 350, 360, 370, 380, 390, \n",
      "valid:, 0, 10, 20, 30, \n",
      "train cost 1.2, train acc 0.51, val cost 0.69, val acc 0.54\n",
      "train auc 0.51, val auc 0.55\n",
      "train prec 0.76, train rec 0.5, val prec 0.54, val rec 0.52\n",
      "Epoch 1:, \n",
      "train:, 0, 10, 20, 30, 40, 50, 60, 70, 80, 90, 100, 110, 120, 130, 140, 150, 160, 170, 180, 190, 200, 210, 220, 230, 240, 250, 260, 270, 280, 290, 300, 310, 320, 330, 340, 350, 360, 370, 380, 390, \n",
      "valid:, 0, 10, 20, 30, \n",
      "train cost 0.67, train acc 0.58, val cost 0.66, val acc 0.6\n",
      "train auc 0.62, val auc 0.64\n",
      "train prec 0.58, train rec 0.57, val prec 0.6, val rec 0.54\n",
      "Epoch 2:, \n",
      "train:, 0, 10, 20, 30, 40, 50, 60, 70, 80, 90, 100, 110, 120, 130, 140, 150, 160, 170, 180, 190, 200, 210, 220, 230, 240, 250, 260, 270, 280, 290, 300, 310, 320, 330, 340, 350, 360, 370, 380, 390, \n",
      "valid:, 0, 10, 20, 30, \n",
      "train cost 0.63, train acc 0.64, val cost 0.67, val acc 0.62\n",
      "train auc 0.69, val auc 0.65\n",
      "train prec 0.63, train rec 0.62, val prec 0.68, val rec 0.42\n",
      "Epoch 3:, \n",
      "train:, 0, 10, 20, 30, 40, 50, 60, 70, 80, 90, 100, 110, 120, 130, 140, 150, 160, 170, 180, 190, 200, 210, 220, 230, 240, 250, 260, 270, 280, 290, 300, 310, 320, 330, 340, 350, 360, 370, 380, 390, \n",
      "valid:, 0, 10, 20, 30, \n",
      "train cost 0.6, train acc 0.67, val cost 0.64, val acc 0.64\n",
      "train auc 0.74, val auc 0.69\n",
      "train prec 0.69, train rec 0.67, val prec 0.67, val rec 0.52\n",
      "Epoch 4:, \n",
      "train:, 0, 10, 20, 30, 40, 50, 60, 70, 80, 90, 100, 110, 120, 130, 140, 150, 160, 170, 180, 190, 200, 210, 220, 230, 240, 250, 260, 270, 280, 290, 300, 310, 320, 330, 340, 350, 360, 370, 380, 390, \n",
      "valid:, 0, 10, 20, 30, \n",
      "train cost 0.56, train acc 0.71, val cost 0.67, val acc 0.64\n",
      "train auc 0.78, val auc 0.68\n",
      "train prec 0.71, train rec 0.7, val prec 0.68, val rec 0.48\n",
      "Epoch 5:, \n",
      "train:, 0, 10, 20, 30, 40, 50, 60, 70, 80, 90, 100, 110, 120, 130, 140, 150, 160, 170, 180, 190, 200, 210, 220, 230, 240, 250, 260, 270, 280, 290, 300, 310, 320, 330, 340, 350, 360, 370, 380, 390, \n",
      "valid:, 0, 10, 20, 30, \n",
      "train cost 0.52, train acc 0.74, val cost 0.66, val acc 0.66\n",
      "train auc 0.82, val auc 0.71\n",
      "train prec 0.75, train rec 0.73, val prec 0.68, val rec 0.56\n",
      "Epoch 6:, \n",
      "train:, 0, 10, 20, 30, 40, 50, 60, 70, 80, 90, 100, 110, 120, 130, 140, 150, 160, 170, 180, 190, 200, 210, 220, 230, 240, 250, 260, 270, 280, 290, 300, 310, 320, 330, 340, 350, 360, 370, 380, 390, \n",
      "valid:, 0, 10, 20, 30, \n",
      "train cost 0.48, train acc 0.76, val cost 0.66, val acc 0.66\n",
      "train auc 0.85, val auc 0.71\n",
      "train prec 0.78, train rec 0.75, val prec 0.67, val rec 0.62\n",
      "Epoch 7:, \n",
      "train:, 0, 10, 20, 30, 40, 50, 60, 70, 80, 90, 100, 110, 120, 130, 140, 150, 160, 170, 180, 190, 200, 210, 220, 230, 240, 250, 260, 270, 280, 290, 300, 310, 320, 330, 340, 350, 360, 370, 380, 390, \n",
      "valid:, 0, 10, 20, 30, \n",
      "train cost 0.44, train acc 0.79, val cost 0.65, val acc 0.67\n",
      "train auc 0.88, val auc 0.73\n",
      "train prec 0.81, train rec 0.77, val prec 0.68, val rec 0.62\n",
      "Epoch 8:, \n",
      "train:, 0, 10, 20, 30, 40, 50, 60, 70, 80, 90, 100, 110, 120, 130, 140, 150, 160, 170, 180, 190, 200, 210, 220, 230, 240, 250, 260, 270, 280, 290, 300, 310, 320, 330, 340, 350, 360, 370, 380, 390, \n",
      "valid:, 0, 10, 20, 30, \n",
      "train cost 0.4, train acc 0.81, val cost 0.67, val acc 0.67\n",
      "train auc 0.9, val auc 0.73\n",
      "train prec 0.83, train rec 0.8, val prec 0.67, val rec 0.67\n",
      "Epoch 9:, \n",
      "train:, 0, 10, 20, 30, 40, 50, 60, 70, 80, 90, 100, 110, 120, 130, 140, 150, 160, 170, 180, 190, 200, 210, 220, 230, 240, 250, 260, 270, 280, 290, 300, 310, 320, 330, 340, 350, 360, 370, 380, 390, \n",
      "valid:, 0, 10, 20, 30, \n",
      "train cost 0.37, train acc 0.83, val cost 0.71, val acc 0.68\n",
      "train auc 0.92, val auc 0.73\n",
      "train prec 0.85, train rec 0.82, val prec 0.66, val rec 0.69\n",
      "Epoch 10:, \n",
      "train:, 0, 10, 20, 30, 40, 50, 60, 70, 80, 90, 100, 110, 120, 130, 140, 150, 160, 170, 180, 190, 200, 210, 220, 230, 240, 250, 260, 270, 280, 290, 300, 310, 320, 330, 340, 350, 360, 370, 380, 390, \n",
      "valid:, 0, 10, 20, 30, \n",
      "train cost 0.32, train acc 0.86, val cost 0.73, val acc 0.67\n",
      "train auc 0.94, val auc 0.73\n",
      "train prec 0.88, train rec 0.85, val prec 0.66, val rec 0.67\n",
      "Epoch 11:, \n",
      "train:, 0, 10, 20, 30, 40, 50, 60, 70, 80, 90, 100, 110, 120, 130, 140, 150, 160, 170, 180, 190, 200, 210, 220, 230, 240, 250, 260, 270, 280, 290, 300, 310, 320, 330, 340, 350, 360, 370, 380, 390, \n",
      "valid:, 0, 10, 20, 30, \n",
      "train cost 0.29, train acc 0.88, val cost 0.79, val acc 0.67\n",
      "train auc 0.95, val auc 0.73\n",
      "train prec 0.89, train rec 0.87, val prec 0.66, val rec 0.7\n",
      "Epoch 12:, \n",
      "train:, 0, 10, 20, 30, 40, 50, 60, 70, 80, 90, 100, 110, 120, 130, 140, 150, 160, 170, 180, 190, 200, 210, 220, 230, 240, 250, 260, 270, 280, 290, 300, 310, 320, 330, 340, 350, 360, 370, 380, 390, \n",
      "valid:, 0, 10, 20, 30, \n",
      "train cost 0.27, train acc 0.89, val cost 0.8, val acc 0.68\n",
      "train auc 0.96, val auc 0.74\n",
      "train prec 0.9, train rec 0.87, val prec 0.67, val rec 0.67\n",
      "Epoch 13:, \n",
      "train:, 0, 10, 20, 30, 40, 50, 60, 70, 80, 90, 100, 110, 120, 130, 140, 150, 160, 170, 180, 190, 200, 210, 220, 230, 240, 250, 260, 270, 280, 290, 300, 310, 320, 330, 340, 350, 360, 370, 380, 390, \n",
      "valid:, 0, 10, 20, 30, \n",
      "train cost 0.24, train acc 0.9, val cost 0.84, val acc 0.67\n",
      "train auc 0.97, val auc 0.73\n",
      "train prec 0.92, train rec 0.9, val prec 0.66, val rec 0.62\n",
      "Epoch 14:, \n",
      "train:, 0, 10, 20, 30, 40, 50, 60, 70, 80, 90, 100, 110, 120, 130, 140, 150, 160, 170, 180, 190, 200, 210, 220, 230, 240, 250, 260, 270, 280, 290, 300, 310, 320, 330, 340, 350, 360, 370, 380, 390, \n",
      "valid:, 0, 10, 20, 30, \n",
      "train cost 0.21, train acc 0.92, val cost 0.97, val acc 0.65\n",
      "train auc 0.98, val auc 0.72\n",
      "train prec 0.93, train rec 0.91, val prec 0.64, val rec 0.66\n",
      "Epoch 15:, \n",
      "train:, 0, 10, 20, 30, 40, 50, 60, 70, 80, 90, 100, 110, 120, 130, 140, 150, 160, 170, 180, 190, 200, 210, 220, 230, 240, 250, 260, 270, 280, 290, 300, 310, 320, 330, 340, 350, 360, 370, 380, 390, \n",
      "valid:, 0, 10, 20, 30, \n",
      "train cost 0.19, train acc 0.93, val cost 0.99, val acc 0.66\n",
      "train auc 0.98, val auc 0.72\n",
      "train prec 0.94, train rec 0.92, val prec 0.68, val rec 0.59\n",
      "Epoch 16:, \n",
      "train:, 0, 10, 20, 30, 40, 50, 60, 70, 80, 90, 100, 110, 120, 130, 140, 150, 160, 170, 180, 190, 200, 210, 220, 230, 240, 250, 260, 270, 280, 290, 300, 310, 320, 330, 340, 350, 360, 370, 380, 390, \n",
      "valid:, 0, 10, 20, 30, \n",
      "train cost 0.17, train acc 0.94, val cost 1.0, val acc 0.66\n",
      "train auc 0.98, val auc 0.72\n",
      "train prec 0.95, train rec 0.93, val prec 0.69, val rec 0.55\n",
      "Epoch 17:, \n",
      "train:, 0, 10, 20, 30, 40, 50, 60, 70, 80, 90, 100, 110, 120, 130, 140, 150, 160, 170, 180, 190, 200, 210, 220, 230, 240, 250, 260, 270, 280, 290, 300, 310, 320, 330, 340, 350, 360, 370, 380, 390, \n",
      "valid:, 0, 10, 20, 30, \n",
      "train cost 0.15, train acc 0.94, val cost 0.96, val acc 0.67\n",
      "train auc 0.99, val auc 0.73\n",
      "train prec 0.95, train rec 0.94, val prec 0.63, val rec 0.77\n",
      "Epoch 18:, \n",
      "train:, 0, 10, 20, 30, 40, 50, 60, 70, 80, 90, 100, 110, 120, 130, 140, 150, 160, 170, 180, 190, 200, 210, 220, 230, 240, 250, 260, 270, 280, 290, 300, 310, 320, 330, 340, 350, 360, 370, 380, 390, \n",
      "valid:, 0, 10, 20, 30, \n",
      "train cost 0.14, train acc 0.95, val cost 1.1, val acc 0.67\n",
      "train auc 0.99, val auc 0.73\n",
      "train prec 0.95, train rec 0.94, val prec 0.66, val rec 0.66\n",
      "Epoch 19:, \n",
      "train:, 0, 10, 20, 30, 40, 50, 60, 70, 80, 90, 100, 110, 120, 130, 140, 150, 160, 170, 180, 190, 200, 210, 220, 230, 240, 250, 260, 270, 280, 290, 300, 310, 320, 330, 340, 350, 360, 370, 380, 390, \n",
      "valid:, 0, 10, 20, 30, \n",
      "train cost 0.12, train acc 0.96, val cost 1.1, val acc 0.67\n",
      "train auc 0.99, val auc 0.73\n",
      "train prec 0.96, train rec 0.96, val prec 0.68, val rec 0.61\n",
      "New LR: 7e-06\n",
      "Epoch 20:, \n",
      "train:, 0, 10, 20, 30, 40, 50, 60, 70, 80, 90, 100, 110, 120, 130, 140, 150, 160, 170, 180, 190, 200, 210, 220, 230, 240, 250, 260, 270, 280, 290, 300, 310, 320, 330, 340, 350, 360, 370, 380, 390, \n",
      "valid:, 0, 10, 20, 30, \n",
      "train cost 0.093, train acc 0.97, val cost 1.2, val acc 0.67\n",
      "train auc 1.0, val auc 0.72\n",
      "train prec 0.97, train rec 0.97, val prec 0.68, val rec 0.57\n",
      "Epoch 21:, \n",
      "train:, 0, 10, 20, 30, 40, 50, 60, 70, 80, 90, 100, 110, 120, 130, 140, 150, 160, 170, 180, 190, 200, 210, 220, 230, 240, 250, 260, 270, 280, 290, 300, 310, 320, 330, 340, 350, 360, 370, 380, 390, \n",
      "valid:, 0, 10, 20, 30, \n",
      "train cost 0.083, train acc 0.97, val cost 1.2, val acc 0.67\n",
      "train auc 1.0, val auc 0.73\n",
      "train prec 0.98, train rec 0.97, val prec 0.7, val rec 0.59\n",
      "Epoch 22:, \n",
      "train:, 0, 10, 20, 30, 40, 50, 60, 70, 80, 90, 100, 110, 120, 130, 140, 150, 160, 170, 180, 190, 200, 210, 220, 230, 240, 250, 260, 270, 280, 290, 300, 310, 320, 330, 340, 350, 360, 370, 380, 390, \n",
      "valid:, 0, 10, 20, 30, \n",
      "train cost 0.078, train acc 0.98, val cost 1.4, val acc 0.66\n",
      "train auc 1.0, val auc 0.72\n",
      "train prec 0.98, train rec 0.97, val prec 0.71, val rec 0.55\n",
      "Epoch 23:, \n",
      "train:, 0, 10, 20, 30, 40, 50, 60, 70, 80, 90, 100, 110, 120, 130, 140, 150, 160, 170, 180, 190, 200, 210, 220, 230, 240, 250, 260, 270, 280, 290, 300, 310, 320, 330, 340, 350, 360, 370, 380, 390, \n",
      "valid:, 0, 10, 20, 30, \n",
      "train cost 0.07, train acc 0.98, val cost 1.3, val acc 0.68\n",
      "train auc 1.0, val auc 0.73\n",
      "train prec 0.98, train rec 0.98, val prec 0.69, val rec 0.64\n",
      "Epoch 24:, \n",
      "train:, 0, 10, 20, 30, 40, 50, 60, 70, 80, 90, 100, 110, 120, 130, 140, 150, 160, 170, 180, 190, 200, 210, 220, 230, 240, 250, 260, 270, 280, 290, 300, 310, 320, 330, 340, 350, 360, 370, 380, 390, \n",
      "valid:, 0, 10, 20, 30, \n",
      "train cost 0.064, train acc 0.98, val cost 1.4, val acc 0.67\n",
      "train auc 1.0, val auc 0.72\n",
      "train prec 0.98, train rec 0.98, val prec 0.71, val rec 0.56\n",
      "Epoch 25:, \n",
      "train:, 0, 10, 20, 30, 40, 50, 60, 70, 80, 90, 100, 110, 120, 130, 140, 150, 160, 170, 180, 190, 200, 210, 220, 230, 240, 250, 260, 270, 280, 290, 300, 310, 320, 330, 340, 350, 360, 370, 380, 390, \n",
      "valid:, 0, 10, 20, 30, \n",
      "train cost 0.064, train acc 0.98, val cost 1.5, val acc 0.66\n",
      "train auc 1.0, val auc 0.72\n",
      "train prec 0.98, train rec 0.98, val prec 0.7, val rec 0.55\n",
      "Epoch 26:, \n",
      "train:, 0, 10, 20, 30, 40, 50, 60, 70, 80, 90, 100, 110, 120, 130, 140, 150, 160, 170, 180, 190, 200, 210, 220, 230, 240, 250, 260, 270, 280, 290, 300, 310, 320, 330, 340, 350, 360, 370, 380, 390, \n",
      "valid:, 0, 10, 20, 30, \n",
      "train cost 0.059, train acc 0.98, val cost 1.5, val acc 0.66\n",
      "train auc 1.0, val auc 0.71\n",
      "train prec 0.98, train rec 0.98, val prec 0.71, val rec 0.54\n",
      "Epoch 27:, \n",
      "train:, 0, 10, 20, 30, 40, 50, 60, 70, 80, 90, 100, 110, 120, 130, 140, 150, 160, 170, 180, 190, 200, 210, 220, 230, 240, 250, 260, 270, 280, 290, 300, 310, 320, 330, 340, 350, 360, 370, 380, 390, \n",
      "valid:, 0, 10, 20, 30, \n",
      "train cost 0.053, train acc 0.98, val cost 1.7, val acc 0.65\n",
      "train auc 1.0, val auc 0.69\n",
      "train prec 0.99, train rec 0.98, val prec 0.72, val rec 0.47\n",
      "Epoch 28:, \n",
      "train:, 0, 10, 20, 30, 40, 50, 60, 70, 80, 90, 100, 110, 120, 130, 140, 150, 160, 170, 180, 190, 200, 210, 220, 230, 240, 250, 260, 270, 280, 290, 300, 310, 320, 330, 340, 350, 360, 370, 380, 390, \n",
      "valid:, 0, 10, 20, 30, \n",
      "train cost 0.045, train acc 0.99, val cost 1.8, val acc 0.65\n",
      "train auc 1.0, val auc 0.7\n",
      "train prec 0.99, train rec 0.99, val prec 0.71, val rec 0.44\n",
      "Epoch 29:, \n",
      "train:, 0, 10, 20, 30, 40, 50, 60, 70, 80, 90, 100, 110, 120, 130, 140, 150, 160, 170, 180, 190, 200, 210, 220, 230, 240, 250, 260, 270, 280, 290, 300, 310, 320, 330, 340, 350, 360, 370, 380, 390, \n",
      "valid:, 0, 10, 20, 30, \n",
      "train cost 0.043, train acc 0.99, val cost 1.6, val acc 0.67\n",
      "train auc 1.0, val auc 0.72\n",
      "train prec 0.99, train rec 0.99, val prec 0.69, val rec 0.59\n",
      "Epoch 30:, \n",
      "train:, 0, 10, 20, 30, 40, 50, 60, 70, 80, 90, 100, 110, 120, 130, 140, 150, 160, 170, 180, 190, 200, 210, 220, 230, 240, 250, 260, 270, 280, 290, 300, 310, 320, 330, 340, 350, 360, 370, 380, 390, \n",
      "valid:, 0, 10, 20, 30, \n",
      "train cost 0.035, train acc 0.99, val cost 1.6, val acc 0.67\n",
      "train auc 1.0, val auc 0.72\n",
      "train prec 0.99, train rec 0.99, val prec 0.69, val rec 0.57\n",
      "Epoch 31:, \n",
      "train:, 0, 10, 20, 30, 40, 50, 60, 70, 80, 90, 100, 110, 120, 130, 140, 150, 160, 170, 180, 190, 200, 210, 220, 230, 240, 250, 260, 270, 280, 290, 300, 310, 320, 330, 340, 350, 360, 370, 380, 390, \n",
      "valid:, 0, 10, 20, 30, \n",
      "train cost 0.031, train acc 0.99, val cost 1.8, val acc 0.66\n",
      "train auc 1.0, val auc 0.71\n",
      "train prec 0.99, train rec 0.99, val prec 0.71, val rec 0.53\n",
      "Epoch 32:, \n",
      "train:, 0, 10, 20, 30, 40, 50, 60, 70, 80, 90, 100, 110, 120, 130, 140, 150, 160, 170, 180, 190, 200, 210, 220, 230, 240, 250, 260, 270, 280, 290, 300, 310, 320, 330, 340, 350, 360, 370, 380, 390, \n",
      "valid:, 0, 10, 20, 30, \n",
      "train cost 0.035, train acc 0.99, val cost 1.7, val acc 0.67\n",
      "train auc 1.0, val auc 0.73\n",
      "train prec 0.99, train rec 0.99, val prec 0.69, val rec 0.6\n",
      "Epoch 33:, \n",
      "train:, 0, 10, 20, 30, 40, 50, 60, 70, 80, 90, 100, 110, 120, 130, 140, 150, 160, 170, 180, 190, 200, 210, 220, 230, 240, 250, 260, 270, 280, 290, 300, 310, 320, 330, 340, 350, 360, 370, 380, 390, \n",
      "valid:, 0, 10, 20, 30, \n",
      "train cost 0.03, train acc 0.99, val cost 1.6, val acc 0.67\n",
      "train auc 1.0, val auc 0.72\n",
      "train prec 0.99, train rec 0.99, val prec 0.69, val rec 0.58\n",
      "Epoch 34:, \n",
      "train:, 0, 10, 20, 30, 40, 50, 60, 70, 80, 90, 100, 110, 120, 130, 140, 150, 160, 170, 180, 190, 200, 210, 220, 230, 240, 250, 260, 270, 280, 290, 300, 310, 320, 330, 340, 350, 360, 370, 380, 390, \n",
      "valid:, 0, 10, 20, 30, \n",
      "train cost 0.028, train acc 0.99, val cost 1.7, val acc 0.67\n",
      "train auc 1.0, val auc 0.72\n",
      "train prec 0.99, train rec 0.99, val prec 0.69, val rec 0.6\n",
      "Epoch 35:, \n",
      "train:, 0, 10, 20, 30, 40, 50, 60, 70, 80, 90, 100, 110, 120, 130, 140, 150, 160, 170, 180, 190, 200, 210, 220, 230, 240, 250, 260, 270, 280, 290, 300, 310, 320, 330, 340, 350, 360, 370, 380, 390, \n",
      "valid:, 0, 10, 20, 30, \n",
      "train cost 0.025, train acc 0.99, val cost 1.8, val acc 0.67\n",
      "train auc 1.0, val auc 0.72\n",
      "train prec 0.99, train rec 0.99, val prec 0.72, val rec 0.56\n",
      "Epoch 36:, \n",
      "train:, 0, 10, 20, 30, 40, 50, 60, 70, 80, 90, 100, 110, 120, 130, 140, 150, 160, 170, 180, 190, 200, 210, 220, 230, 240, 250, 260, 270, 280, 290, 300, 310, 320, 330, 340, 350, 360, 370, 380, 390, \n",
      "valid:, 0, 10, 20, 30, \n",
      "train cost 0.024, train acc 0.99, val cost 2.0, val acc 0.66\n",
      "train auc 1.0, val auc 0.71\n",
      "train prec 0.99, train rec 0.99, val prec 0.74, val rec 0.51\n",
      "Epoch 37:, \n",
      "train:, 0, 10, 20, 30, 40, 50, 60, 70, 80, 90, 100, 110, 120, 130, 140, 150, 160, 170, 180, 190, 200, 210, 220, 230, 240, 250, 260, 270, 280, 290, 300, 310, 320, 330, 340, 350, 360, 370, 380, 390, \n",
      "valid:, 0, 10, 20, 30, \n",
      "train cost 0.022, train acc 0.99, val cost 1.8, val acc 0.68\n",
      "train auc 1.0, val auc 0.73\n",
      "train prec 0.99, train rec 0.99, val prec 0.69, val rec 0.61\n",
      "Epoch 38:, \n",
      "train:, 0, 10, 20, 30, 40, 50, 60, 70, 80, 90, 100, 110, 120, 130, 140, 150, 160, 170, 180, 190, 200, 210, 220, 230, 240, 250, 260, 270, 280, 290, 300, 310, 320, 330, 340, 350, 360, 370, 380, 390, \n",
      "valid:, 0, 10, 20, 30, \n",
      "train cost 0.022, train acc 0.99, val cost 1.8, val acc 0.67\n",
      "train auc 1.0, val auc 0.72\n",
      "train prec 0.99, train rec 0.99, val prec 0.71, val rec 0.56\n",
      "Epoch 39:, \n",
      "train:, 0, 10, 20, 30, 40, 50, 60, 70, 80, 90, 100, 110, 120, 130, 140, 150, 160, 170, 180, 190, 200, 210, 220, 230, 240, 250, 260, 270, 280, 290, 300, 310, 320, 330, 340, 350, 360, 370, 380, 390, \n",
      "valid:, 0, 10, 20, 30, \n",
      "train cost 0.022, train acc 0.99, val cost 1.8, val acc 0.67\n",
      "train auc 1.0, val auc 0.73\n",
      "train prec 0.99, train rec 0.99, val prec 0.69, val rec 0.61\n",
      "New LR: 4.9e-06\n",
      "Epoch 40:, \n",
      "train:, 0, 10, 20, 30, 40, 50, 60, 70, 80, 90, 100, 110, 120, 130, 140, 150, 160, 170, 180, 190, 200, 210, 220, 230, 240, 250, 260, 270, 280, 290, 300, 310, 320, 330, 340, 350, 360, 370, 380, 390, \n",
      "valid:, 0, 10, 20, 30, \n",
      "train cost 0.018, train acc 1.0, val cost 1.8, val acc 0.67\n",
      "train auc 1.0, val auc 0.72\n",
      "train prec 0.99, train rec 0.99, val prec 0.7, val rec 0.57\n",
      "Epoch 41:, \n",
      "train:, 0, 10, 20, 30, 40, 50, 60, 70, 80, 90, 100, 110, 120, 130, 140, 150, 160, 170, 180, 190, 200, 210, 220, 230, 240, 250, 260, 270, 280, 290, 300, 310, 320, 330, 340, 350, 360, 370, 380, 390, \n",
      "valid:, 0, 10, 20, 30, \n",
      "train cost 0.015, train acc 1.0, val cost 1.8, val acc 0.68\n",
      "train auc 1.0, val auc 0.73\n",
      "train prec 1.0, train rec 1.0, val prec 0.68, val rec 0.65\n",
      "Epoch 42:, \n",
      "train:, 0, 10, 20, 30, 40, 50, 60, 70, 80, 90, 100, 110, 120, 130, 140, 150, 160, 170, 180, 190, 200, 210, 220, 230, 240, 250, 260, 270, 280, 290, 300, 310, 320, 330, 340, 350, 360, 370, 380, 390, \n",
      "valid:, 0, 10, 20, 30, \n",
      "train cost 0.011, train acc 1.0, val cost 2.1, val acc 0.67\n",
      "train auc 1.0, val auc 0.72\n",
      "train prec 1.0, train rec 1.0, val prec 0.71, val rec 0.56\n",
      "Epoch 43:, \n",
      "train:, 0, 10, 20, 30, 40, 50, 60, 70, 80, 90, 100, 110, 120, 130, 140, 150, 160, 170, 180, 190, 200, 210, 220, 230, 240, 250, 260, 270, 280, 290, 300, 310, 320, 330, 340, 350, 360, 370, 380, 390, \n",
      "valid:, 0, 10, 20, 30, \n",
      "train cost 0.01, train acc 1.0, val cost 1.9, val acc 0.69\n",
      "train auc 1.0, val auc 0.73\n",
      "train prec 1.0, train rec 1.0, val prec 0.69, val rec 0.62\n",
      "Epoch 44:, \n",
      "train:, 0, 10, 20, 30, 40, 50, 60, 70, 80, 90, 100, 110, 120, 130, 140, 150, 160, 170, 180, 190, 200, 210, 220, 230, 240, 250, 260, 270, 280, 290, 300, 310, 320, 330, 340, 350, 360, 370, 380, 390, \n",
      "valid:, 0, 10, 20, 30, \n",
      "train cost 0.011, train acc 1.0, val cost 2.1, val acc 0.66\n",
      "train auc 1.0, val auc 0.7\n",
      "train prec 1.0, train rec 1.0, val prec 0.7, val rec 0.5\n",
      "Epoch 45:, \n",
      "train:, 0, 10, 20, 30, 40, 50, 60, 70, 80, 90, 100, 110, 120, 130, 140, 150, 160, 170, 180, 190, 200, 210, 220, 230, 240, 250, 260, 270, 280, 290, 300, 310, 320, 330, 340, 350, 360, 370, 380, 390, \n",
      "valid:, 0, 10, 20, 30, \n",
      "train cost 0.015, train acc 1.0, val cost 2.1, val acc 0.67\n",
      "train auc 1.0, val auc 0.71\n",
      "train prec 1.0, train rec 0.99, val prec 0.69, val rec 0.54\n",
      "Epoch 46:, \n",
      "train:, 0, 10, 20, 30, 40, 50, 60, 70, 80, 90, 100, 110, 120, 130, 140, 150, 160, 170, 180, 190, 200, 210, 220, 230, 240, 250, 260, 270, 280, 290, 300, 310, 320, 330, 340, 350, 360, 370, 380, 390, \n",
      "valid:, 0, 10, 20, 30, \n",
      "train cost 0.0099, train acc 1.0, val cost 2.1, val acc 0.66\n",
      "train auc 1.0, val auc 0.71\n",
      "train prec 1.0, train rec 1.0, val prec 0.69, val rec 0.53\n",
      "Epoch 47:, \n",
      "train:, 0, 10, 20, 30, 40, 50, 60, 70, 80, 90, 100, 110, 120, 130, 140, 150, 160, 170, 180, 190, 200, 210, 220, 230, 240, 250, 260, 270, 280, 290, 300, 310, 320, 330, 340, 350, 360, 370, 380, 390, \n",
      "valid:, 0, 10, 20, 30, \n",
      "train cost 0.0084, train acc 1.0, val cost 2.0, val acc 0.68\n",
      "train auc 1.0, val auc 0.72\n",
      "train prec 1.0, train rec 1.0, val prec 0.7, val rec 0.58\n",
      "Epoch 48:, \n",
      "train:, 0, 10, 20, 30, 40, 50, 60, 70, 80, 90, 100, 110, 120, 130, 140, 150, 160, 170, 180, 190, 200, 210, 220, 230, 240, 250, 260, 270, 280, 290, 300, 310, 320, 330, 340, 350, 360, 370, 380, 390, \n",
      "valid:, 0, 10, 20, 30, \n",
      "train cost 0.013, train acc 1.0, val cost 2.2, val acc 0.66\n",
      "train auc 1.0, val auc 0.7\n",
      "train prec 1.0, train rec 0.99, val prec 0.74, val rec 0.5\n",
      "Epoch 49:, \n",
      "train:, 0, 10, 20, 30, 40, 50, 60, 70, 80, 90, "
     ]
    }
   ],
   "source": [
    "NUM_EPOCHS = 50\n",
    "\n",
    "valid_accs, train_accs, test_accs = [], [], []\n",
    "valid_precs, train_precs, valid_recs, train_recs = [], [], [], []\n",
    "train_costs, valid_costs = [], []\n",
    "train_aucs, valid_aucs = [], []\n",
    "\n",
    "learning_rate=0.00001\n",
    "# define which variables are included in the training\n",
    "tr_op = train_op4\n",
    "print('Number of epochs: %s' % NUM_EPOCHS)\n",
    "\n",
    "try:\n",
    "    for n in range(NUM_EPOCHS):\n",
    "        print(\"Epoch %d:\" % n, end=', ')\n",
    "        print('\\ntrain:', end=', ')\n",
    "        train_cost, train_acc, train_prec, train_rec, train_summary, train_auc = train_epoch(learning_rate, tr_op)\n",
    "        train_costs += [train_cost]\n",
    "        train_accs += [train_acc]\n",
    "        train_aucs += [train_auc]\n",
    "        train_precs += [train_prec]\n",
    "        train_recs += [train_rec]\n",
    "        print('valid:', end=', ')\n",
    "        valid_cost, valid_acc, preds, valid_prec, valid_rec, valid_summary, valid_auc = eval_epoch()\n",
    "        valid_costs += [valid_cost]\n",
    "        valid_accs += [valid_acc]\n",
    "        valid_aucs += [valid_auc]\n",
    "        valid_precs += [valid_prec]\n",
    "        valid_recs += [valid_rec]\n",
    "\n",
    "        print(\"train cost {0:.2}, train acc {1:.2}, val cost {2:.2}, val acc {3:.2}\".format(\n",
    "                train_cost, train_acc, valid_cost, valid_acc))\n",
    "        print(\"train auc {0:.2}, val auc {1:.2}\". format(train_auc, valid_auc))\n",
    "        print(\"train prec {0:.2}, train rec {1:.2}, val prec {2:.2}, val rec {3:.2}\". format(\n",
    "                train_prec, train_rec, valid_prec, valid_rec))\n",
    "        \n",
    "        # learning rate annealing\n",
    "        if (n+1) % 20 == 0:\n",
    "            learning_rate = learning_rate * 0.7\n",
    "            print(\"New LR:\", learning_rate)      \n",
    "        \n",
    "except KeyboardInterrupt:\n",
    "    pass"
   ]
  },
  {
   "cell_type": "code",
   "execution_count": 31,
   "metadata": {
    "collapsed": true
   },
   "outputs": [],
   "source": [
    "# save session?\n",
    "saver = tf.train.Saver()\n",
    "save_path = saver.save(sess, \"output/03ST_TL.ckpt\")\n"
   ]
  },
  {
   "cell_type": "markdown",
   "metadata": {},
   "source": [
    "## Plot errors and zoom"
   ]
  },
  {
   "cell_type": "code",
   "execution_count": 54,
   "metadata": {
    "collapsed": false
   },
   "outputs": [
    {
     "data": {
      "image/png": "[encoded data removed]",
      "text/plain": [
       "<matplotlib.figure.Figure at 0x7f2ad42fb438>"
      ]
     },
     "metadata": {},
     "output_type": "display_data"
    }
   ],
   "source": [
    "plt.figure(figsize=(9,9))\n",
    "plt.plot(np.array(train_accs), label='Training Acc')\n",
    "plt.plot(np.array(valid_accs), label='Validation Acc')\n",
    "plt.plot(np.array(train_aucs), label='Train AUC')\n",
    "plt.plot(np.array(valid_aucs), label='Validation AUC')\n",
    "plt.legend(fontsize=20)\n",
    "plt.xlabel('Epoch', fontsize=20)\n",
    "plt.savefig('output/TL_STN_ACC_AUC')\n",
    "plt.show()"
   ]
  },
  {
   "cell_type": "markdown",
   "metadata": {},
   "source": [
    "## Show original image, transformed image and the weights used for transformation"
   ]
  },
  {
   "cell_type": "code",
   "execution_count": null,
   "metadata": {
    "collapsed": false
   },
   "outputs": [],
   "source": [
    "X_batch_val, y_batch_val = train_generator.next()\n",
    "fetches_val = [prediction, l_transform, w_transform, hsv, vgg16_mid]\n",
    "feed_dict_val = {x_pl: X_batch_val}\n",
    "res = sess.run(fetches=fetches_val, feed_dict=feed_dict_val)\n",
    "output_eval, transform_eval, weight_eval, hsv_im, convnet = tuple(res)\n",
    "\n",
    "print(X_batch_val.shape)\n",
    "\n",
    "plt.figure(figsize=(10,8))\n",
    "\n",
    "offset = 0\n",
    "\n",
    "for i in range(3):\n",
    "    img = X_batch_val[i+offset]\n",
    "    mi = np.min(img)\n",
    "    img = img - mi\n",
    "    ma = np.max(img)\n",
    "    img = img / ma\n",
    "    trans = transform_eval[i+offset]\n",
    "    mi = np.min(trans)\n",
    "    trans = trans - mi\n",
    "    ma = np.max(trans)\n",
    "    trans = trans / ma\n",
    "\n",
    "    plt.subplot(331+i*3)\n",
    "    plt.imshow(img, interpolation='none')\n",
    "    if i == 0:\n",
    "        plt.title('Original {0}x{0}'.format(X_batch_val.shape[1]), fontsize=10)\n",
    "    plt.axis('off')\n",
    "    plt.subplot(332+i*3)\n",
    "    plt.imshow(trans, interpolation='none')\n",
    "    if i == 0:\n",
    "        plt.title('Transformed {0}x{0}'.format(l_transform.shape[1]), fontsize=10)\n",
    "    plt.axis('off')\n",
    "    plt.subplot(333+i*3)\n",
    "    plt.imshow(weight_eval[i+offset].reshape(2,3), interpolation='nearest', cmap='jet')\n",
    "    plt.colorbar()\n",
    "    if i == 0:\n",
    "        plt.title('Transformation weights', fontsize=10)\n",
    "    plt.axis('off')\n",
    "    \n",
    "plt.tight_layout()\n",
    "# plt.savefig('output/TL_STN_weights')\n",
    "plt.show()"
   ]
  },
  {
   "cell_type": "markdown",
   "metadata": {},
   "source": [
    "## Test data"
   ]
  },
  {
   "cell_type": "code",
   "execution_count": 46,
   "metadata": {
    "collapsed": false
   },
   "outputs": [
    {
     "name": "stdout",
     "output_type": "stream",
     "text": [
      "Found 617 images belonging to 2 classes.\n",
      "batch no 1, number of samples: 100\n",
      "batch no 2, number of samples: 100\n",
      "batch no 3, number of samples: 100\n",
      "batch no 4, number of samples: 100\n",
      "batch no 5, number of samples: 100\n",
      "batch no 6, number of samples: 100\n",
      "batch no 7, number of samples: 17\n"
     ]
    }
   ],
   "source": [
    "test_generator = datagen.flow_from_directory(\n",
    "    test_data_dir,\n",
    "    target_size=(img_height, img_width),\n",
    "    batch_size=BATCH_SIZE,\n",
    "    class_mode='categorical',\n",
    "    shuffle=False)\n",
    "\n",
    "num_samples = test_generator.n\n",
    "num_batches = int(np.ceil(num_samples / float(BATCH_SIZE)))\n",
    "\n",
    "test_logits = np.zeros((num_samples, 2))\n",
    "y = np.zeros((num_samples, 2))\n",
    "\n",
    "for i in range(num_batches):\n",
    "\n",
    "    x_batch_test, y_batch_test = test_generator.next()\n",
    "    n_batch = x_batch_test.shape[0]\n",
    "    print(\"batch no {}, number of samples: {}\".format(i+1, n_batch))\n",
    "    fetches_test = [logits, prediction, accuracy, auc_op]\n",
    "    feed_dict_test= {x_pl: x_batch_test, y_pl: y_batch_test}\n",
    "    res = sess.run(fetches=fetches_test, feed_dict=feed_dict_test)\n",
    "    \n",
    "    test_logits[i*BATCH_SIZE: i*BATCH_SIZE + n_batch, :] = res[0]\n",
    "    y[i*BATCH_SIZE: i*BATCH_SIZE + n_batch, :] = y_batch_test"
   ]
  },
  {
   "cell_type": "code",
   "execution_count": 50,
   "metadata": {
    "collapsed": false
   },
   "outputs": [
    {
     "name": "stdout",
     "output_type": "stream",
     "text": [
      "Sklearn auc: 0.7305633147113593\n"
     ]
    }
   ],
   "source": [
    "# For the ROC curve\n",
    "from sklearn import metrics\n",
    "fpr, tpr, thresholds = metrics.roc_curve(y[:, 0], test_logits[:, 0])\n",
    "auc = metrics.auc(fpr, tpr)\n",
    "print(\"Sklearn auc: {}\".format(auc))"
   ]
  },
  {
   "cell_type": "code",
   "execution_count": 51,
   "metadata": {
    "collapsed": false
   },
   "outputs": [
    {
     "data": {
      "image/png": "[encoded data removed]",
      "text/plain": [
       "<matplotlib.figure.Figure at 0x7f2ad42c90f0>"
      ]
     },
     "metadata": {},
     "output_type": "display_data"
    }
   ],
   "source": [
    "plt.plot(fpr,tpr)\n",
    "plt.plot(fpr, tpr, color='darkorange',\n",
    "         lw=2, label='ROC curve (area = {0:0.2f})'.format(auc))\n",
    "plt.plot([0, 1], [0, 1], color='navy', lw=2, linestyle='--')\n",
    "plt.xlim([0.0, 1.0])\n",
    "plt.ylim([0.0, 1.05])\n",
    "plt.xlabel('False Positive Rate')\n",
    "plt.ylabel('True Positive Rate')\n",
    "plt.title('Receiver operating characteristic')\n",
    "plt.legend(loc=\"lower right\")\n",
    "plt.savefig('output/TL_STN_ROC')\n",
    "plt.show()"
   ]
  },
  {
   "cell_type": "code",
   "execution_count": 39,
   "metadata": {
    "collapsed": false
   },
   "outputs": [
    {
     "name": "stdout",
     "output_type": "stream",
     "text": [
      "acc: 0.72, auc: 0.73\n"
     ]
    }
   ],
   "source": [
    "acc = np.sum(np.equal(np.argmax(y, axis=1), np.argmax(test_logits, axis=1)))/num_samples\n",
    "\n",
    "print(\"acc: {0:0.2f}, auc: {1:0.2f}\".format(acc, auc))"
   ]
  },
  {
   "cell_type": "code",
   "execution_count": 40,
   "metadata": {
    "collapsed": false
   },
   "outputs": [
    {
     "name": "stdout",
     "output_type": "stream",
     "text": [
      "397 45 35 140\n",
      "Precision, Recall, TPR, FPR\n",
      "0.918981481481 0.739292364991 0.739292364991 0.4375\n"
     ]
    }
   ],
   "source": [
    "# indices for positive and negative examples\n",
    "idxp = np.argmax(y, axis=1) == 0\n",
    "idxn = np.argmax(y, axis=1) == 1\n",
    "\n",
    "tp = np.sum(np.equal(np.argmax(y[idxp, :], axis=1), np.argmax(test_logits[idxp, :], axis=1)))\n",
    "tn = np.sum(np.equal(np.argmax(y[idxn, :], axis=1), np.argmax(test_logits[idxn, :], axis=1)))\n",
    "fp = np.sum(np.argmax(y[idxn, :], axis=1) != np.argmax(test_logits[idxn, :], axis=1))\n",
    "fn = np.sum(np.argmax(y[idxp, :], axis=1) != np.argmax(test_logits[idxp, :], axis=1))\n",
    "\n",
    "print(tp, tn, fp, fn)\n",
    "\n",
    "prec = tp / (tp + fp)\n",
    "rec = tp / (tp + fn)\n",
    "tpr = tp / (tp + fn)\n",
    "fpr = fp / (fp + tn)\n",
    "\n",
    "print(\"Precision, Recall, TPR, FPR\")\n",
    "print(prec, rec, tpr, fpr)"
   ]
  },
  {
   "cell_type": "markdown",
   "metadata": {},
   "source": [
    "## Inspect classifications on the test set"
   ]
  },
  {
   "cell_type": "code",
   "execution_count": null,
   "metadata": {
    "collapsed": false
   },
   "outputs": [],
   "source": [
    "n = 17\n",
    "offset = 0\n",
    "plt.figure(figsize=(100,100))\n",
    "for i in range(n):\n",
    "    plt.subplot(n,1,i+1)\n",
    "    img = x_batch_test[i + offset]\n",
    "    mi = np.min(img)\n",
    "    img = img - mi\n",
    "    ma = np.max(img)\n",
    "    img = img / ma\n",
    "    plt.imshow(img)\n",
    "    plt.title('logits: {0:3.2}  {1:3.2}, truth: {2}'.format(res[0][i][0],res[0][i][1], y_batch_test[i+offset]))"
   ]
  }
 ],
 "metadata": {
  "kernelspec": {
   "display_name": "Python 3",
   "language": "python",
   "name": "python3"
  },
  "language_info": {
   "codemirror_mode": {
    "name": "ipython",
    "version": 3
   },
   "file_extension": ".py",
   "mimetype": "text/x-python",
   "name": "python",
   "nbconvert_exporter": "python",
   "pygments_lexer": "ipython3",
   "version": "3.5.2"
  }
 },
 "nbformat": 4,
 "nbformat_minor": 2
}
