{
 "cells": [
  {
   "cell_type": "markdown",
   "metadata": {},
   "source": [
    "# Generate train, validation and test splits"
   ]
  },
  {
   "cell_type": "code",
   "execution_count": 1,
   "metadata": {
    "collapsed": false
   },
   "outputs": [
    {
     "name": "stderr",
     "output_type": "stream",
     "text": [
      "Using TensorFlow backend.\n"
     ]
    }
   ],
   "source": [
    "from keras.preprocessing.image import ImageDataGenerator\n",
    "from keras.applications.vgg16 import preprocess_input\n",
    "import glob\n",
    "import numpy as np\n",
    "from PIL import Image\n",
    "import random\n",
    "random.seed(123)\n",
    "import os\n",
    "import shutil"
   ]
  },
  {
   "cell_type": "markdown",
   "metadata": {},
   "source": [
    "### Data dirs"
   ]
  },
  {
   "cell_type": "code",
   "execution_count": 2,
   "metadata": {
    "collapsed": true
   },
   "outputs": [],
   "source": [
    "pso_dir =   # Directory containing psoriasis images\n",
    "ecz_dir =   # Directory containing eczema images\n",
    "\n",
    "pso = glob.glob(pso_dir + '/*.jpg')\n",
    "ecz = glob.glob(ecz_dir + '/*.jpg')\n",
    "\n",
    "train_dir =          # Training directory\n",
    "validation_dir =     # Validation directory\n",
    "test_dir =           # Test directory"
   ]
  },
  {
   "cell_type": "markdown",
   "metadata": {},
   "source": [
    "### Shuffle"
   ]
  },
  {
   "cell_type": "code",
   "execution_count": null,
   "metadata": {
    "collapsed": false
   },
   "outputs": [],
   "source": [
    "random.shuffle(pso)\n",
    "random.shuffle(ecz)"
   ]
  },
  {
   "cell_type": "markdown",
   "metadata": {},
   "source": [
    "### Split"
   ]
  },
  {
   "cell_type": "code",
   "execution_count": 5,
   "metadata": {
    "collapsed": false
   },
   "outputs": [
    {
     "name": "stdout",
     "output_type": "stream",
     "text": [
      "630 78 80 788\n",
      "4284 535 537 5356\n"
     ]
    }
   ],
   "source": [
    "n_pso_train = int(0.8*np)\n",
    "n_pso_val = int(0.1*np)\n",
    "n_pso_test = np - n_pso_train - n_pso_val\n",
    "print(n_pso_train, n_pso_val, n_pso_test, np)\n",
    "\n",
    "n_ecz_train = int(0.8*ne)\n",
    "n_ecz_val = int(0.1*ne)\n",
    "n_ecz_test = ne - n_ecz_train -n_ecz_val\n",
    "print(n_ecz_train, n_ecz_val, n_ecz_test, ne)"
   ]
  },
  {
   "cell_type": "markdown",
   "metadata": {},
   "source": [
    "### copy to target dirs"
   ]
  },
  {
   "cell_type": "code",
   "execution_count": 6,
   "metadata": {
    "collapsed": false
   },
   "outputs": [
    {
     "name": "stdout",
     "output_type": "stream",
     "text": [
      "630 78 80\n",
      "4284 535 537\n"
     ]
    }
   ],
   "source": [
    "pso_train = pso[:n_pso_train]\n",
    "pso_val = pso[n_pso_train: n_pso_train + n_pso_val]\n",
    "pso_test = pso[n_pso_train+n_pso_val:]\n",
    "\n",
    "ecz_train = ecz[:n_ecz_train]\n",
    "ecz_val = ecz[n_ecz_train: n_ecz_train + n_ecz_val]\n",
    "ecz_test = ecz[n_ecz_train+n_ecz_val:]\n",
    "\n",
    "print(len(pso_train), len(pso_val), len(pso_test))\n",
    "print(len(ecz_train), len(ecz_val), len(ecz_test))\n",
    "\n",
    "def copy_files(source, target_dir):\n",
    "    for file in source:\n",
    "        basename = os.path.basename(file)\n",
    "        shutil.copyfile(file, target_dir + basename)\n",
    "        \n",
    "\n",
    "    "
   ]
  },
  {
   "cell_type": "code",
   "execution_count": 7,
   "metadata": {
    "collapsed": true
   },
   "outputs": [],
   "source": [
    "# Do not Uncomment unless you want to generate new data splits!\n",
    "# copy_files(pso_test, test_dir + '/pso/')\n",
    "# copy_files(ecz_test, test_dir + '/ecz/')\n",
    "# copy_files(pso_train, train_dir + '/pso/')\n",
    "# copy_files(ecz_train, train_dir + '/ecz/')\n",
    "# copy_files(pso_val, validation_dir + '/pso/')\n",
    "# copy_files(ecz_val, validation_dir + '/ecz/')"
   ]
  },
  {
   "cell_type": "markdown",
   "metadata": {},
   "source": [
    "## Augment data and balance classes"
   ]
  },
  {
   "cell_type": "code",
   "execution_count": 8,
   "metadata": {
    "collapsed": true
   },
   "outputs": [],
   "source": [
    "train_aug =        # Directory for augmented training data\n",
    "validation_aug =   # Directory for augmented validation data\n",
    "\n",
    "\n",
    "DIM = 224\n",
    "BATCH_SIZE = 100\n",
    "img_width, img_height = 224, 224\n",
    "nchannels = 3"
   ]
  },
  {
   "cell_type": "code",
   "execution_count": 9,
   "metadata": {
    "collapsed": true
   },
   "outputs": [],
   "source": [
    "# this is the augmentation configuration we will use for training and validation\n",
    "datagen = ImageDataGenerator(\n",
    "    rotation_range=40,\n",
    "    width_shift_range=0.2,\n",
    "    height_shift_range=0.2,\n",
    "    shear_range=0.4,\n",
    "    zoom_range=0.4,\n",
    "    fill_mode=\"nearest\",\n",
    "    horizontal_flip=True,\n",
    "    vertical_flip=True)\n"
   ]
  },
  {
   "cell_type": "code",
   "execution_count": 10,
   "metadata": {
    "collapsed": false
   },
   "outputs": [
    {
     "name": "stdout",
     "output_type": "stream",
     "text": [
      "Found 4914 images belonging to 2 classes.\n",
      "Found 613 images belonging to 2 classes.\n"
     ]
    }
   ],
   "source": [
    "# this is a generator that will read pictures found in\n",
    "# subfolers of 'data/train', and indefinitely generate\n",
    "# batches of augmented image data\n",
    "train_generator = datagen.flow_from_directory(\n",
    "        train_dir,  \n",
    "        target_size=(img_height, img_width),  \n",
    "        batch_size=1,\n",
    "        class_mode='categorical')\n",
    "\n",
    "# this is a similar generator, for validation data\n",
    "validation_generator = datagen.flow_from_directory(\n",
    "        validation_dir,\n",
    "        target_size=(img_height, img_width),\n",
    "        batch_size=1,\n",
    "        class_mode='categorical')"
   ]
  },
  {
   "cell_type": "code",
   "execution_count": 11,
   "metadata": {
    "collapsed": false
   },
   "outputs": [
    {
     "data": {
      "text/plain": [
       "{'ecz': 0, 'pso': 1}"
      ]
     },
     "execution_count": 11,
     "metadata": {},
     "output_type": "execute_result"
    }
   ],
   "source": [
    "train_generator.class_indices"
   ]
  },
  {
   "cell_type": "code",
   "execution_count": null,
   "metadata": {
    "collapsed": false,
    "scrolled": true
   },
   "outputs": [],
   "source": [
    "psotr = 0\n",
    "psoval = 0\n",
    "ecztr = 0\n",
    "eczval = 0\n",
    "n = 0\n",
    "\n",
    "while psotr < 20000:\n",
    "    x_tr, y_tr = train_generator.next()\n",
    "    \n",
    "    if y_tr[0][0] == 0 and psotr < 20000:\n",
    "        im = Image.fromarray(x_tr[0].astype('uint8'), 'RGB')\n",
    "        im.save(train_aug + \"/pso/pso_{}.png\".format(psotr))\n",
    "        psotr += 1\n",
    "        \n",
    "    if y_tr[0][0] == 1 and ecztr < 20000:\n",
    "        im = Image.fromarray(x_tr[0].astype('uint8'), 'RGB')\n",
    "        im.save(train_aug + \"/ecz/ecz_{}.png\".format(ecztr))\n",
    "        ecztr += 1\n",
    "        \n",
    "    \n",
    "    x_val, y_val = validation_generator.next()\n",
    "\n",
    "\n",
    "    if y_val[0][0] == 0 and psoval < 2000:\n",
    "        im = Image.fromarray(x_val[0].astype('uint8'), 'RGB')\n",
    "        im.save(validation_aug + \"/pso/pso_{}.png\".format(psoval))\n",
    "        psoval += 1\n",
    "        \n",
    "    if y_val[0][0] == 1 and eczval < 2000:\n",
    "        im = Image.fromarray(x_val[0].astype('uint8'), 'RGB')\n",
    "        im.save(validation_aug + \"/ecz/ecz_{}.png\".format(eczval))\n",
    "        eczval += 1\n",
    "        \n",
    "    n += 1\n",
    "    if n % 100 == 0:\n",
    "        print(\"psotr: {0}, ecztr: {1}, psoval: {2}, eczval: {3}\".format(psotr, ecztr, psoval, eczval))\n",
    "    "
   ]
  }
 ],
 "metadata": {
  "kernelspec": {
   "display_name": "Python 3",
   "language": "python",
   "name": "python3"
  },
  "language_info": {
   "codemirror_mode": {
    "name": "ipython",
    "version": 3
   },
   "file_extension": ".py",
   "mimetype": "text/x-python",
   "name": "python",
   "nbconvert_exporter": "python",
   "pygments_lexer": "ipython3",
   "version": "3.5.2"
  }
 },
 "nbformat": 4,
 "nbformat_minor": 2
}
