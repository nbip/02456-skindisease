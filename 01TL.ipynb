{
 "cells": [
  {
   "cell_type": "markdown",
   "metadata": {},
   "source": [
    "# Transfer Learning using VGG16 model and the Slim framework\n",
    "\n",
    "Download the VGG16 weights to the folder \"checkpoints\" from this source:\n",
    "\n",
    "https://github.com/tensorflow/models/tree/master/research/slim\n",
    "\n",
    "The data should be stored as follows\n",
    "\n",
    ".../train<pre>\n",
    "/pso\n",
    "/ecz\n",
    "</pre>\n",
    ".../validation <pre>\n",
    "/pso  \n",
    "/ecz \n",
    "</pre>\n",
    ".../test<pre>\n",
    "/pso  \n",
    "/ecz  \n",
    "</pre>\n",
    "\n",
    "\n",
    "The following sources were helpful for implementing the VGG16 model in slim:\n",
    "\n",
    "https://www.kaggle.com/ardiya/tensorflow-vgg-pretrained\n",
    "https://github.com/tensorflow/models/blob/master/research/slim/nets/vgg.py\n",
    "\n",
    "General introduction to TF-slim is given here: https://github.com/tensorflow/tensorflow/tree/master/tensorflow/contrib/slim\n",
    "https://github.com/tensorflow/models/blob/master/research/slim/slim_walkthrough.ipynb\n"
   ]
  },
  {
   "cell_type": "code",
   "execution_count": 1,
   "metadata": {
    "collapsed": false
   },
   "outputs": [
    {
     "name": "stderr",
     "output_type": "stream",
     "text": [
      "/home/nbip/.conda/envs/tf/lib/python3.6/importlib/_bootstrap.py:219: RuntimeWarning: compiletime version 3.5 of module 'tensorflow.python.framework.fast_tensor_util' does not match runtime version 3.6\n",
      "  return f(*args, **kwds)\n"
     ]
    }
   ],
   "source": [
    "# for specifying which GPU to use\n",
    "import os\n",
    "os.environ[\"CUDA_DEVICE_ORDER\"]=\"PCI_BUS_ID\"\n",
    "os.environ[\"CUDA_VISIBLE_DEVICES\"]=\"2\"\n",
    "\n",
    "import tensorflow as tf"
   ]
  },
  {
   "cell_type": "code",
   "execution_count": 2,
   "metadata": {
    "collapsed": false
   },
   "outputs": [
    {
     "name": "stderr",
     "output_type": "stream",
     "text": [
      "Using TensorFlow backend.\n"
     ]
    }
   ],
   "source": [
    "slim = tf.contrib.slim\n",
    "from tensorflow.contrib.slim.nets import vgg\n",
    "from keras.preprocessing.image import ImageDataGenerator\n",
    "from keras.applications.vgg16 import preprocess_input\n",
    "from keras.preprocessing.image import load_img, img_to_array\n",
    "import numpy as np\n",
    "import datetime\n",
    "import glob\n",
    "import matplotlib.pyplot as plt\n",
    "from IPython.display import Image, display, clear_output\n",
    "from random import shuffle"
   ]
  },
  {
   "cell_type": "markdown",
   "metadata": {},
   "source": [
    "## Set up data paths"
   ]
  },
  {
   "cell_type": "code",
   "execution_count": 3,
   "metadata": {
    "collapsed": true
   },
   "outputs": [],
   "source": [
    "checkpoints_dir =          # path to the VGG16 weights\n",
    "train_data_dir =           # path to the train data directory\n",
    "validation_data_dir =      # path to the validation data directory\n",
    "test_data_dir =            # path to the test data directory\n",
    "tensorboard_dir =          # path to the tensorboard directory\n",
    "\n",
    "train_pso = glob.glob(train_data_dir + \"/pso/*.png\")\n",
    "train_ecz = glob.glob(train_data_dir + \"/ecz/*.png\")\n",
    "val_pso = glob.glob(validation_data_dir + \"/pso/*.png\")\n",
    "val_ecz = glob.glob(validation_data_dir + \"/ecz/*.png\")\n",
    "\n",
    "nb_train_samples = len(train_pso) + len(train_ecz)\n",
    "nb_validation_samples = len(val_pso) + len(val_ecz)\n",
    "epochs = 50\n",
    "DIM = 224\n",
    "NUM_CLASSES = 2\n",
    "BATCH_SIZE = 100\n",
    "img_width, img_height = 224, 224\n",
    "nchannels = 3\n",
    "# channel means subtracted in the prerocessing step can be found here \n",
    "# https://github.com/tensorflow/models/blob/master/research/slim/preprocessing/vgg_preprocessing.py"
   ]
  },
  {
   "cell_type": "code",
   "execution_count": 4,
   "metadata": {
    "collapsed": false
   },
   "outputs": [
    {
     "name": "stdout",
     "output_type": "stream",
     "text": [
      "Found 40000 images belonging to 2 classes.\n",
      "Found 4000 images belonging to 2 classes.\n"
     ]
    }
   ],
   "source": [
    "datagen = ImageDataGenerator(\n",
    "    rescale=1. / 255,\n",
    "    preprocessing_function = preprocess_input\n",
    ")\n",
    "\n",
    "train_generator = datagen.flow_from_directory(\n",
    "        train_data_dir,  \n",
    "        target_size=(img_height, img_width),  \n",
    "        batch_size=BATCH_SIZE,\n",
    "        class_mode='categorical')  \n",
    "\n",
    "validation_generator = datagen.flow_from_directory(\n",
    "        validation_data_dir,\n",
    "        target_size=(img_height, img_width),\n",
    "        batch_size=BATCH_SIZE,\n",
    "        class_mode='categorical')"
   ]
  },
  {
   "cell_type": "code",
   "execution_count": 7,
   "metadata": {
    "collapsed": false
   },
   "outputs": [
    {
     "name": "stdout",
     "output_type": "stream",
     "text": [
      "Found 617 images belonging to 2 classes.\n"
     ]
    }
   ],
   "source": [
    "test_generator = datagen.flow_from_directory(\n",
    "    test_data_dir,\n",
    "    target_size=(img_height, img_width),\n",
    "    batch_size=BATCH_SIZE,\n",
    "    class_mode='categorical',\n",
    "    shuffle=False)"
   ]
  },
  {
   "cell_type": "markdown",
   "metadata": {},
   "source": [
    "## Build the VGG16 model"
   ]
  },
  {
   "cell_type": "code",
   "execution_count": 8,
   "metadata": {
    "collapsed": true
   },
   "outputs": [],
   "source": [
    "def build_VGG_model(inputs):\n",
    "    inputs = tf.cast(inputs, tf.float32)\n",
    "    #Use Pretrained Base Model\n",
    "    with tf.variable_scope(\"vgg_16\"):\n",
    "        with slim.arg_scope(vgg.vgg_arg_scope()):\n",
    "            net = slim.repeat(inputs, 2, slim.conv2d, 64, [3, 3], scope='conv1')\n",
    "            net = slim.max_pool2d(net, [2, 2], scope='pool1')\n",
    "            net = slim.repeat(net, 2, slim.conv2d, 128, [3, 3], scope='conv2')\n",
    "            net = slim.max_pool2d(net, [2, 2], scope='pool2')\n",
    "            net = slim.repeat(net, 3, slim.conv2d, 256, [3, 3], scope='conv3')\n",
    "            net = slim.max_pool2d(net, [2, 2], scope='pool3')\n",
    "            net = slim.repeat(net, 3, slim.conv2d, 512, [3, 3], scope='conv4')\n",
    "            net = slim.max_pool2d(net, [2, 2], scope='pool4')\n",
    "            net = slim.repeat(net, 3, slim.conv2d, 512, [3, 3], scope='conv5')\n",
    "            net = slim.max_pool2d(net, [2, 2], scope='pool5')\n",
    "    print( \"VGG model output shape: \", net.get_shape())\n",
    "    #Append fully connected layer\n",
    "    fc = slim.flatten(net)\n",
    "    print('fc_flatten:\\t',fc.get_shape())\n",
    "    fc = slim.fully_connected(fc, 256, \n",
    "            weights_initializer=tf.contrib.layers.xavier_initializer(),\n",
    "            weights_regularizer=slim.l2_regularizer(1.0), #0.0005\n",
    "            scope='finetune/fc1')\n",
    "    fc = slim.dropout(fc, 0.5)\n",
    "    fc_out = slim.fully_connected(fc, 2,\n",
    "            activation_fn=tf.nn.softmax,\n",
    "            weights_initializer=tf.contrib.layers.xavier_initializer(),\n",
    "            weights_regularizer=slim.l2_regularizer(1.0), #0.0005\n",
    "            scope='finetune/fc2')\n",
    "    print('fc_out:\\t',fc_out.get_shape())\n",
    "    return net, fc_out"
   ]
  },
  {
   "cell_type": "code",
   "execution_count": 9,
   "metadata": {
    "collapsed": true
   },
   "outputs": [],
   "source": [
    "def loss_and_acc(logits, labels):\n",
    "    with tf.name_scope(\"loss\"):\n",
    "        # computing cross entropy per sample\n",
    "        cross_entropy = -tf.reduce_sum(labels * tf.log(logits+1e-8), reduction_indices=[1])\n",
    "\n",
    "        # averaging over samples\n",
    "        cross_entropy = tf.reduce_mean(cross_entropy)\n",
    "        \n",
    "        # accuracy\n",
    "        argmax_logits = tf.to_int32(tf.argmax(logits, axis=1))\n",
    "        argmax_labels = tf.to_int32(tf.argmax(labels, axis=1))\n",
    "        correct = tf.to_float(tf.equal(argmax_logits, argmax_labels))\n",
    "        accuracy = tf.reduce_mean(correct)\n",
    "        \n",
    "        # precision\n",
    "        prec, update_op_prec = tf.metrics.precision(argmax_labels, argmax_logits)\n",
    "        \n",
    "        # recall\n",
    "        rec, update_op_rec = tf.metrics.recall(argmax_labels, argmax_logits)\n",
    "        \n",
    "        # AUC of the ROC\n",
    "        auc, update_op_auc = tf.metrics.auc(labels, logits)\n",
    "\n",
    "    return cross_entropy, accuracy, argmax_logits, update_op_prec, update_op_rec, update_op_auc\n",
    "        \n",
    "def optimize(losses, lr_pl, trainable_vars, g_step):\n",
    "    \n",
    "    # defining our optimizer\n",
    "    optimizer = tf.train.AdamOptimizer(learning_rate=lr_pl)\n",
    "\n",
    "    # applying the gradients\n",
    "    train_op = optimizer.minimize(losses, var_list=trainable_vars, global_step=g_step)\n",
    "    \n",
    "    return train_op"
   ]
  },
  {
   "cell_type": "markdown",
   "metadata": {},
   "source": [
    "## Define the graph"
   ]
  },
  {
   "cell_type": "code",
   "execution_count": 10,
   "metadata": {
    "collapsed": false
   },
   "outputs": [
    {
     "name": "stdout",
     "output_type": "stream",
     "text": [
      "VGG model output shape:  (?, 7, 7, 512)\n",
      "fc_flatten:\t (?, 25088)\n",
      "fc_out:\t (?, 2)\n",
      "y_pl:\t (?, 2)\n"
     ]
    },
    {
     "data": {
      "text/plain": [
       "<tf.Tensor 'Evaluation/accuracy:0' shape=() dtype=string>"
      ]
     },
     "execution_count": 10,
     "metadata": {},
     "output_type": "execute_result"
    }
   ],
   "source": [
    "tf.reset_default_graph()\n",
    "\n",
    "# input images\n",
    "x_pl = tf.placeholder(tf.float32, [None, DIM, DIM, nchannels], name=\"input\")\n",
    "# corresponding labels as onehot encoding\n",
    "y_pl = tf.placeholder(tf.float32, shape=[None, NUM_CLASSES], name=\"output\")\n",
    "# learning rate placeholder\n",
    "lr_pl = tf.placeholder(tf.float32, shape=[], name=\"learning-rate\")\n",
    "# keep track of training steps. Incremements by 1 each time tf.optimizer.minimize is called\n",
    "global_step = tf.Variable(initial_value=0, trainable=False)  \n",
    "\n",
    "# The VGG16 model output and the logits from the fully connected layer on top\n",
    "vgg16_out, logits = build_VGG_model(x_pl)\n",
    "\n",
    "# set the trainable vars. We only want to train the fully connected layers\n",
    "trainable_vars = tf.get_collection(tf.GraphKeys.TRAINABLE_VARIABLES,\"finetune\")\n",
    "\n",
    "# define losses and training operation\n",
    "loss, accuracy, prediction, precision, recall, auc_op = loss_and_acc(logits, y_pl)\n",
    "train_op = optimize(loss, lr_pl, trainable_vars, global_step)\n",
    "\n",
    "# for fine tuning. Here we train both the fully connected layers and the top convolutional layer\n",
    "trainable_vars2 = tf.get_collection(tf.GraphKeys.TRAINABLE_VARIABLES,\"finetune\")\n",
    "trainable_vars2.extend(tf.get_collection(tf.GraphKeys.TRAINABLE_VARIABLES,\"vgg_16/conv5\"))\n",
    "train_op2 = optimize(loss, lr_pl, trainable_vars2, global_step)\n",
    "\n",
    "trainable_vars3 = tf.get_collection(tf.GraphKeys.TRAINABLE_VARIABLES,\"finetune\")\n",
    "trainable_vars3.extend(tf.get_collection(tf.GraphKeys.TRAINABLE_VARIABLES,\"vgg_16/conv5\"))\n",
    "trainable_vars3.extend(tf.get_collection(tf.GraphKeys.TRAINABLE_VARIABLES,\"vgg_16/conv4\"))\n",
    "train_op3 = optimize(loss, lr_pl, trainable_vars2, global_step)\n",
    "\n",
    "# add TensorBoard summaries for all variables\n",
    "tf.summary.merge_all()\n",
    "tf.summary.scalar('Evaluation/loss', loss)\n",
    "tf.summary.scalar('Evaluation/accuracy', accuracy)\n"
   ]
  },
  {
   "cell_type": "markdown",
   "metadata": {},
   "source": [
    "## Trainable vars"
   ]
  },
  {
   "cell_type": "code",
   "execution_count": 11,
   "metadata": {
    "collapsed": false
   },
   "outputs": [
    {
     "name": "stdout",
     "output_type": "stream",
     "text": [
      "\n",
      "We have made the following layers a part of the training: \n",
      "<tf.Variable 'finetune/fc1/weights:0' shape=(25088, 256) dtype=float32_ref>\n",
      "<tf.Variable 'finetune/fc1/biases:0' shape=(256,) dtype=float32_ref>\n",
      "<tf.Variable 'finetune/fc2/weights:0' shape=(256, 2) dtype=float32_ref>\n",
      "<tf.Variable 'finetune/fc2/biases:0' shape=(2,) dtype=float32_ref>\n",
      "\n",
      "The following layers are not a part of the training: \n",
      "<tf.Variable 'vgg_16/conv1/conv1_1/weights:0' shape=(3, 3, 3, 64) dtype=float32_ref>\n",
      "<tf.Variable 'vgg_16/conv1/conv1_1/biases:0' shape=(64,) dtype=float32_ref>\n",
      "<tf.Variable 'vgg_16/conv1/conv1_2/weights:0' shape=(3, 3, 64, 64) dtype=float32_ref>\n",
      "<tf.Variable 'vgg_16/conv1/conv1_2/biases:0' shape=(64,) dtype=float32_ref>\n",
      "<tf.Variable 'vgg_16/conv2/conv2_1/weights:0' shape=(3, 3, 64, 128) dtype=float32_ref>\n",
      "<tf.Variable 'vgg_16/conv2/conv2_1/biases:0' shape=(128,) dtype=float32_ref>\n",
      "<tf.Variable 'vgg_16/conv2/conv2_2/weights:0' shape=(3, 3, 128, 128) dtype=float32_ref>\n",
      "<tf.Variable 'vgg_16/conv2/conv2_2/biases:0' shape=(128,) dtype=float32_ref>\n",
      "<tf.Variable 'vgg_16/conv3/conv3_1/weights:0' shape=(3, 3, 128, 256) dtype=float32_ref>\n",
      "<tf.Variable 'vgg_16/conv3/conv3_1/biases:0' shape=(256,) dtype=float32_ref>\n",
      "<tf.Variable 'vgg_16/conv3/conv3_2/weights:0' shape=(3, 3, 256, 256) dtype=float32_ref>\n",
      "<tf.Variable 'vgg_16/conv3/conv3_2/biases:0' shape=(256,) dtype=float32_ref>\n",
      "<tf.Variable 'vgg_16/conv3/conv3_3/weights:0' shape=(3, 3, 256, 256) dtype=float32_ref>\n",
      "<tf.Variable 'vgg_16/conv3/conv3_3/biases:0' shape=(256,) dtype=float32_ref>\n",
      "<tf.Variable 'vgg_16/conv4/conv4_1/weights:0' shape=(3, 3, 256, 512) dtype=float32_ref>\n",
      "<tf.Variable 'vgg_16/conv4/conv4_1/biases:0' shape=(512,) dtype=float32_ref>\n",
      "<tf.Variable 'vgg_16/conv4/conv4_2/weights:0' shape=(3, 3, 512, 512) dtype=float32_ref>\n",
      "<tf.Variable 'vgg_16/conv4/conv4_2/biases:0' shape=(512,) dtype=float32_ref>\n",
      "<tf.Variable 'vgg_16/conv4/conv4_3/weights:0' shape=(3, 3, 512, 512) dtype=float32_ref>\n",
      "<tf.Variable 'vgg_16/conv4/conv4_3/biases:0' shape=(512,) dtype=float32_ref>\n",
      "<tf.Variable 'vgg_16/conv5/conv5_1/weights:0' shape=(3, 3, 512, 512) dtype=float32_ref>\n",
      "<tf.Variable 'vgg_16/conv5/conv5_1/biases:0' shape=(512,) dtype=float32_ref>\n",
      "<tf.Variable 'vgg_16/conv5/conv5_2/weights:0' shape=(3, 3, 512, 512) dtype=float32_ref>\n",
      "<tf.Variable 'vgg_16/conv5/conv5_2/biases:0' shape=(512,) dtype=float32_ref>\n",
      "<tf.Variable 'vgg_16/conv5/conv5_3/weights:0' shape=(3, 3, 512, 512) dtype=float32_ref>\n",
      "<tf.Variable 'vgg_16/conv5/conv5_3/biases:0' shape=(512,) dtype=float32_ref>\n",
      " \n"
     ]
    }
   ],
   "source": [
    "# check which variables are part of the training\n",
    "print(\"\\nWe have made the following layers a part of the initial training: \")\n",
    "[print(var) for var in trainable_vars]\n",
    "print(\"\\nThe following layers are not a part of the initial training: \")\n",
    "[print(var) if var not in trainable_vars else ' ' for var in tf.get_collection(tf.GraphKeys.TRAINABLE_VARIABLES) ]\n",
    "print(\" \")"
   ]
  },
  {
   "cell_type": "markdown",
   "metadata": {},
   "source": [
    "## Initialize session"
   ]
  },
  {
   "cell_type": "code",
   "execution_count": 12,
   "metadata": {
    "collapsed": false
   },
   "outputs": [
    {
     "name": "stdout",
     "output_type": "stream",
     "text": [
      "INFO:tensorflow:Restoring parameters from /dtu-compute/dabai/Deep_Learning/Notebooks/tmp/checkpoints/vgg_16.ckpt\n"
     ]
    }
   ],
   "source": [
    "# restricting memory usage, TensorFlow is greedy and will use all memory otherwise\n",
    "gpu_opts = tf.GPUOptions(per_process_gpu_memory_fraction=1)\n",
    "\n",
    "# initialize the Session\n",
    "sess = tf.Session(config=tf.ConfigProto(gpu_options=gpu_opts))\n",
    "sess.run(tf.global_variables_initializer())\n",
    "sess.run(tf.local_variables_initializer())  # this is needed for the precision and recall for some reason\n",
    "\n",
    "# restorethe VGG_16 weights from file\n",
    "restore = slim.assign_from_checkpoint_fn(\n",
    "               os.path.join(checkpoints_dir, 'vgg_16.ckpt'),\n",
    "               slim.get_model_variables(\"vgg_16\"))\n",
    "restore(sess)\n",
    "\n",
    "# Tensorboard\n",
    "file_writer = tf.summary.FileWriter(tensorboard_dir, sess.graph)\n",
    "# Make run-options\n",
    "run_options = tf.RunOptions(trace_level=tf.RunOptions.FULL_TRACE,\n",
    "                            output_partition_graphs=True)\n",
    "run_metadata = tf.RunMetadata()"
   ]
  },
  {
   "cell_type": "markdown",
   "metadata": {},
   "source": [
    "## Test the forward pass"
   ]
  },
  {
   "cell_type": "code",
   "execution_count": 13,
   "metadata": {
    "collapsed": false
   },
   "outputs": [
    {
     "name": "stdout",
     "output_type": "stream",
     "text": [
      "Forward pass successful!\n"
     ]
    }
   ],
   "source": [
    "x_batch, y_batch = train_generator.next()\n",
    "res = sess.run(fetches=logits, feed_dict={x_pl: x_batch})\n",
    "assert res.shape == (len(x_batch),2) , \"ERROR the output shape is not as expected!\" \\\n",
    "        + \" Output shape should be \" + str(y_pl.shape) + ' but was ' + str(res.shape)\n",
    "\n",
    "print('Forward pass successful!')"
   ]
  },
  {
   "cell_type": "markdown",
   "metadata": {},
   "source": [
    "## Do the training"
   ]
  },
  {
   "cell_type": "code",
   "execution_count": 14,
   "metadata": {
    "collapsed": true
   },
   "outputs": [],
   "source": [
    "# setup and write summaries\n",
    "timestamp = datetime.datetime.now().strftime(\"%Y%m%d-%H%M%S\")\n",
    "summaries_path = \"tensorboard/%s\" % (timestamp)\n",
    "summaries = tf.summary.merge_all()\n",
    "\n",
    "summarywriter_train = tf.summary.FileWriter(summaries_path + '/train', sess.graph)\n",
    "summarywriter_valid = tf.summary.FileWriter(summaries_path + '/valid', sess.graph)\n",
    "\n",
    "\n",
    "def train_epoch(learning_rate, training_op):\n",
    "    num_samples = train_generator.n\n",
    "    num_batches = int(np.ceil(num_samples / float(BATCH_SIZE)))\n",
    "    costs = []\n",
    "    accs = []\n",
    "    for i in range(num_batches):\n",
    "        if i % 10 == 0:\n",
    "            print(i, end=', ')\n",
    "        X_batch_tr, y_batch_tr = train_generator.next()\n",
    "        fetches_tr = [training_op, loss, accuracy, prediction, precision, recall, summaries, global_step, auc_op]\n",
    "        feed_dict_tr = {x_pl: X_batch_tr, y_pl: y_batch_tr, lr_pl: learning_rate}\n",
    "        res = sess.run(fetches=fetches_tr, feed_dict=feed_dict_tr)\n",
    "        costs += [res[1]]\n",
    "        accs += [res[2]]\n",
    "        summarywriter_train.add_summary(res[6], res[7])\n",
    "    auc = res[8]\n",
    "    prec = res[4]\n",
    "    rec = res[5]\n",
    "    # since the prec, rec and auc are running estimates we need to reset it after each epoch\n",
    "    sess.run(tf.local_variables_initializer())  \n",
    "    print(\"\")\n",
    "    return np.mean(costs), np.mean(accs), prec, rec, summaries, auc\n",
    "\n",
    "\n",
    "def eval_epoch():\n",
    "    num_samples = validation_generator.n\n",
    "    num_batches = int(np.ceil(num_samples / float(BATCH_SIZE)))\n",
    "    costs = []\n",
    "    accs = []\n",
    "    preds = []\n",
    "    for i in range(num_batches):\n",
    "        if i % 10 == 0:\n",
    "            print(i, end=', ')\n",
    "        X_batch_val, y_batch_val = validation_generator.next()\n",
    "        fetches_val = [loss, accuracy, prediction, precision, recall, summaries, global_step, auc_op]\n",
    "        feed_dict_val = {x_pl: X_batch_val, y_pl: y_batch_val}\n",
    "        res = sess.run(fetches=fetches_val, feed_dict=feed_dict_val)\n",
    "        costs += [res[0]]\n",
    "        accs += [res[1]]\n",
    "        preds += [res[2]]\n",
    "        summarywriter_valid.add_summary(res[5], res[6])\n",
    "    preds_ = np.concatenate(preds, axis=0)\n",
    "    auc = res[7]\n",
    "    prec = res[3]\n",
    "    rec = res[4]\n",
    "    # since the prec and rec is a running estimate we need to reset it after each epoch\n",
    "    sess.run(tf.local_variables_initializer())  \n",
    "    print('')\n",
    "    return np.mean(costs), np.mean(accs), preds_, prec, rec, summaries, auc"
   ]
  },
  {
   "cell_type": "code",
   "execution_count": 15,
   "metadata": {
    "collapsed": false
   },
   "outputs": [
    {
     "name": "stdout",
     "output_type": "stream",
     "text": [
      "Number of epochs: 60\n",
      "Epoch 0:, \n",
      "train:, 0, 10, 20, 30, 40, 50, 60, 70, 80, 90, 100, 110, 120, 130, 140, 150, 160, 170, 180, 190, 200, 210, 220, 230, 240, 250, 260, 270, 280, 290, 300, 310, 320, 330, 340, 350, 360, 370, 380, 390, \n",
      "valid:, 0, 10, 20, 30, \n",
      "train cost 0.71, train acc 0.55, val cost 0.68, val acc 0.57\n",
      "train auc 0.56, val auc 0.6\n",
      "train prec 0.55, train rec 0.55, val prec 0.56, val rec 0.64\n",
      "Epoch 1:, \n",
      "train:, 0, 10, 20, 30, 40, 50, 60, 70, 80, 90, 100, 110, 120, 130, 140, 150, 160, 170, 180, 190, 200, 210, 220, 230, 240, 250, 260, 270, 280, 290, 300, 310, 320, 330, 340, 350, 360, 370, 380, 390, \n",
      "valid:, 0, 10, 20, 30, \n",
      "train cost 0.67, train acc 0.59, val cost 0.67, val acc 0.59\n",
      "train auc 0.63, val auc 0.62\n",
      "train prec 0.59, train rec 0.6, val prec 0.6, val rec 0.55\n",
      "Epoch 2:, \n",
      "train:, 0, 10, 20, 30, 40, 50, 60, 70, 80, 90, 100, 110, 120, 130, 140, 150, 160, 170, 180, 190, 200, 210, 220, 230, 240, 250, 260, 270, 280, 290, 300, 310, 320, 330, 340, 350, 360, 370, 380, 390, \n",
      "valid:, 0, 10, 20, 30, \n",
      "train cost 0.65, train acc 0.61, val cost 0.67, val acc 0.59\n",
      "train auc 0.66, val auc 0.63\n",
      "train prec 0.61, train rec 0.63, val prec 0.59, val rec 0.58\n",
      "Epoch 3:, \n",
      "train:, 0, 10, 20, 30, 40, 50, 60, 70, 80, 90, 100, 110, 120, 130, 140, 150, 160, 170, 180, 190, 200, 210, 220, 230, 240, 250, 260, 270, 280, 290, 300, 310, 320, 330, 340, 350, 360, 370, 380, 390, \n",
      "valid:, 0, 10, 20, 30, \n",
      "train cost 0.64, train acc 0.63, val cost 0.68, val acc 0.59\n",
      "train auc 0.68, val auc 0.62\n",
      "train prec 0.63, train rec 0.64, val prec 0.62, val rec 0.45\n",
      "Epoch 4:, \n",
      "train:, 0, 10, 20, 30, 40, 50, 60, 70, 80, 90, 100, 110, 120, 130, 140, 150, 160, 170, 180, 190, 200, 210, 220, 230, 240, 250, 260, 270, 280, 290, 300, 310, 320, 330, 340, 350, 360, 370, 380, 390, \n",
      "valid:, 0, 10, 20, 30, \n",
      "train cost 0.63, train acc 0.65, val cost 0.67, val acc 0.6\n",
      "train auc 0.71, val auc 0.64\n",
      "train prec 0.64, train rec 0.66, val prec 0.65, val rec 0.44\n",
      "Epoch 5:, \n",
      "train:, 0, 10, 20, 30, 40, 50, 60, 70, 80, 90, 100, 110, 120, 130, 140, 150, 160, 170, 180, 190, 200, 210, 220, 230, 240, 250, 260, 270, 280, 290, 300, 310, 320, 330, 340, 350, 360, 370, 380, 390, \n",
      "valid:, 0, 10, 20, 30, \n",
      "New train_op!\n",
      "train cost 0.62, train acc 0.66, val cost 0.66, val acc 0.61\n",
      "train auc 0.72, val auc 0.65\n",
      "train prec 0.66, train rec 0.67, val prec 0.61, val rec 0.6\n",
      "Epoch 6:, \n",
      "train:, 0, 10, 20, 30, 40, 50, 60, 70, 80, 90, 100, 110, 120, 130, 140, 150, 160, 170, 180, 190, 200, 210, 220, 230, 240, 250, 260, 270, 280, 290, 300, 310, 320, 330, 340, 350, 360, 370, 380, 390, \n",
      "valid:, 0, 10, 20, 30, \n",
      "train cost 0.59, train acc 0.69, val cost 0.66, val acc 0.63\n",
      "train auc 0.75, val auc 0.67\n",
      "train prec 0.68, train rec 0.7, val prec 0.64, val rec 0.56\n",
      "Epoch 7:, \n",
      "train:, 0, 10, 20, 30, 40, 50, 60, 70, 80, 90, 100, 110, 120, 130, 140, 150, 160, 170, 180, 190, 200, 210, 220, 230, 240, 250, 260, 270, 280, 290, 300, 310, 320, 330, 340, 350, 360, 370, 380, 390, \n",
      "valid:, 0, 10, 20, 30, \n",
      "train cost 0.54, train acc 0.73, val cost 0.66, val acc 0.63\n",
      "train auc 0.81, val auc 0.68\n",
      "train prec 0.72, train rec 0.74, val prec 0.61, val rec 0.72\n",
      "Epoch 8:, \n",
      "train:, 0, 10, 20, 30, 40, 50, 60, 70, 80, 90, 100, 110, 120, 130, 140, 150, 160, 170, 180, 190, 200, 210, 220, 230, 240, 250, 260, 270, 280, 290, 300, 310, 320, 330, 340, 350, 360, 370, 380, 390, \n",
      "valid:, 0, 10, 20, 30, \n",
      "train cost 0.49, train acc 0.76, val cost 0.67, val acc 0.64\n",
      "train auc 0.85, val auc 0.69\n",
      "train prec 0.75, train rec 0.78, val prec 0.65, val rec 0.6\n",
      "Epoch 9:, \n",
      "train:, 0, 10, 20, 30, 40, 50, 60, 70, 80, 90, 100, 110, 120, 130, 140, 150, 160, 170, 180, 190, 200, 210, 220, 230, 240, 250, 260, 270, 280, 290, 300, 310, 320, 330, 340, 350, 360, 370, 380, 390, \n",
      "valid:, 0, 10, 20, 30, \n",
      "train cost 0.44, train acc 0.8, val cost 0.67, val acc 0.65\n",
      "train auc 0.88, val auc 0.7\n",
      "train prec 0.79, train rec 0.82, val prec 0.64, val rec 0.69\n",
      "Epoch 10:, \n",
      "train:, 0, 10, 20, 30, 40, 50, 60, 70, 80, 90, 100, 110, 120, 130, 140, 150, 160, 170, 180, 190, 200, 210, 220, 230, 240, 250, 260, 270, 280, 290, 300, 310, 320, 330, 340, 350, 360, 370, 380, 390, \n",
      "valid:, 0, 10, 20, 30, \n",
      "train cost 0.39, train acc 0.83, val cost 0.72, val acc 0.65\n",
      "train auc 0.91, val auc 0.7\n",
      "train prec 0.82, train rec 0.85, val prec 0.66, val rec 0.6\n",
      "Epoch 11:, \n",
      "train:, 0, 10, 20, 30, 40, 50, 60, 70, 80, 90, 100, 110, 120, 130, 140, 150, 160, 170, 180, 190, 200, 210, 220, 230, 240, 250, 260, 270, 280, 290, 300, 310, 320, 330, 340, 350, 360, 370, 380, 390, \n",
      "valid:, 0, 10, 20, 30, \n",
      "train cost 0.34, train acc 0.85, val cost 0.73, val acc 0.65\n",
      "train auc 0.93, val auc 0.7\n",
      "train prec 0.84, train rec 0.87, val prec 0.7, val rec 0.52\n",
      "Epoch 12:, \n",
      "train:, 0, 10, 20, 30, 40, 50, 60, 70, 80, 90, 100, 110, 120, 130, 140, 150, 160, 170, 180, 190, 200, 210, 220, 230, 240, 250, 260, 270, 280, 290, 300, 310, 320, 330, 340, 350, 360, 370, 380, 390, \n",
      "valid:, 0, 10, 20, 30, \n",
      "train cost 0.3, train acc 0.88, val cost 0.75, val acc 0.66\n",
      "train auc 0.95, val auc 0.72\n",
      "train prec 0.87, train rec 0.89, val prec 0.66, val rec 0.66\n",
      "Epoch 13:, \n",
      "train:, 0, 10, 20, 30, 40, 50, 60, 70, 80, 90, 100, 110, 120, 130, 140, 150, 160, 170, 180, 190, 200, 210, 220, 230, 240, 250, 260, 270, 280, 290, 300, 310, 320, 330, 340, 350, 360, 370, 380, 390, \n",
      "valid:, 0, 10, 20, 30, \n",
      "train cost 0.26, train acc 0.9, val cost 0.78, val acc 0.67\n",
      "train auc 0.96, val auc 0.72\n",
      "train prec 0.89, train rec 0.91, val prec 0.7, val rec 0.58\n",
      "Epoch 14:, \n",
      "train:, 0, 10, 20, 30, 40, 50, 60, 70, 80, 90, 100, 110, 120, 130, 140, 150, 160, 170, 180, 190, 200, 210, 220, 230, 240, 250, 260, 270, 280, 290, 300, 310, 320, 330, 340, 350, 360, 370, 380, 390, \n",
      "valid:, 0, 10, 20, 30, \n",
      "train cost 0.23, train acc 0.91, val cost 0.79, val acc 0.67\n",
      "train auc 0.97, val auc 0.72\n",
      "train prec 0.9, train rec 0.92, val prec 0.68, val rec 0.63\n",
      "Epoch 15:, \n",
      "train:, 0, 10, 20, 30, 40, 50, 60, 70, 80, 90, 100, 110, 120, 130, 140, 150, 160, 170, 180, 190, 200, 210, 220, 230, 240, 250, 260, 270, 280, 290, 300, 310, 320, 330, 340, 350, 360, 370, 380, 390, \n",
      "valid:, 0, 10, 20, 30, \n",
      "New train_op!\n",
      "train cost 0.2, train acc 0.93, val cost 0.88, val acc 0.66\n",
      "train auc 0.98, val auc 0.71\n",
      "train prec 0.92, train rec 0.94, val prec 0.71, val rec 0.53\n",
      "Epoch 16:, \n",
      "train:, 0, 10, 20, 30, 40, 50, 60, 70, 80, 90, 100, 110, 120, 130, 140, 150, 160, 170, 180, 190, 200, 210, 220, 230, 240, 250, 260, 270, 280, 290, 300, 310, 320, 330, 340, 350, 360, 370, 380, 390, \n",
      "valid:, 0, 10, 20, 30, \n",
      "train cost 0.17, train acc 0.94, val cost 0.84, val acc 0.67\n",
      "train auc 0.99, val auc 0.73\n",
      "train prec 0.93, train rec 0.95, val prec 0.65, val rec 0.73\n",
      "Epoch 17:, \n",
      "train:, 0, 10, 20, 30, 40, 50, 60, 70, 80, 90, 100, 110, 120, 130, 140, 150, 160, 170, 180, 190, 200, 210, 220, 230, 240, 250, 260, 270, 280, 290, 300, 310, 320, 330, 340, 350, 360, 370, 380, 390, \n",
      "valid:, 0, 10, 20, 30, \n",
      "train cost 0.15, train acc 0.95, val cost 0.95, val acc 0.67\n",
      "train auc 0.99, val auc 0.72\n",
      "train prec 0.94, train rec 0.96, val prec 0.71, val rec 0.57\n",
      "Epoch 18:, \n",
      "train:, 0, 10, 20, 30, 40, 50, 60, 70, 80, 90, 100, 110, 120, 130, 140, 150, 160, 170, 180, 190, 200, 210, 220, 230, 240, 250, 260, 270, 280, 290, 300, 310, 320, 330, 340, 350, 360, 370, 380, 390, \n",
      "valid:, 0, 10, 20, 30, \n",
      "train cost 0.13, train acc 0.96, val cost 1.0, val acc 0.66\n",
      "train auc 0.99, val auc 0.72\n",
      "train prec 0.96, train rec 0.97, val prec 0.71, val rec 0.53\n",
      "Epoch 19:, \n",
      "train:, 0, 10, 20, 30, 40, 50, 60, 70, 80, 90, 100, 110, 120, 130, 140, 150, 160, 170, 180, 190, 200, 210, 220, 230, 240, 250, 260, 270, 280, 290, 300, 310, 320, 330, 340, 350, 360, 370, 380, 390, \n",
      "valid:, 0, 10, 20, 30, \n",
      "New LR: 7e-06\n",
      "train cost 0.11, train acc 0.97, val cost 1.0, val acc 0.68\n",
      "train auc 1.0, val auc 0.73\n",
      "train prec 0.96, train rec 0.97, val prec 0.73, val rec 0.57\n",
      "Epoch 20:, \n",
      "train:, 0, 10, 20, 30, 40, 50, 60, 70, 80, 90, 100, 110, 120, 130, 140, 150, 160, 170, 180, 190, 200, 210, 220, 230, 240, 250, 260, 270, 280, 290, 300, 310, 320, 330, 340, 350, 360, 370, 380, 390, \n",
      "valid:, 0, 10, 20, 30, \n",
      "train cost 0.085, train acc 0.98, val cost 1.1, val acc 0.68\n",
      "train auc 1.0, val auc 0.73\n",
      "train prec 0.97, train rec 0.98, val prec 0.73, val rec 0.57\n",
      "Epoch 21:, \n",
      "train:, 0, 10, 20, 30, 40, 50, 60, 70, 80, 90, 100, 110, 120, 130, 140, 150, 160, 170, 180, 190, 200, 210, 220, 230, 240, 250, 260, 270, 280, 290, 300, 310, 320, 330, 340, 350, 360, 370, 380, 390, \n",
      "valid:, 0, 10, 20, 30, \n",
      "train cost 0.075, train acc 0.98, val cost 1.1, val acc 0.68\n",
      "train auc 1.0, val auc 0.74\n",
      "train prec 0.98, train rec 0.98, val prec 0.69, val rec 0.67\n",
      "Epoch 22:, \n",
      "train:, 0, 10, 20, 30, 40, 50, 60, 70, 80, 90, 100, 110, 120, 130, 140, 150, 160, 170, 180, 190, 200, 210, 220, 230, 240, 250, 260, 270, 280, 290, 300, 310, 320, 330, 340, 350, 360, 370, 380, 390, \n",
      "valid:, 0, 10, 20, 30, \n",
      "train cost 0.067, train acc 0.98, val cost 1.2, val acc 0.67\n",
      "train auc 1.0, val auc 0.72\n",
      "train prec 0.98, train rec 0.99, val prec 0.73, val rec 0.53\n",
      "Epoch 23:, \n",
      "train:, 0, 10, 20, 30, 40, 50, 60, 70, 80, 90, 100, 110, 120, 130, 140, 150, 160, 170, 180, 190, 200, 210, 220, 230, 240, 250, 260, 270, 280, 290, 300, 310, 320, 330, 340, 350, 360, 370, 380, 390, \n",
      "valid:, 0, 10, 20, 30, \n",
      "train cost 0.059, train acc 0.99, val cost 1.3, val acc 0.67\n",
      "train auc 1.0, val auc 0.71\n",
      "train prec 0.98, train rec 0.99, val prec 0.72, val rec 0.54\n",
      "Epoch 24:, \n",
      "train:, 0, 10, 20, 30, 40, 50, 60, 70, 80, 90, 100, 110, 120, 130, 140, 150, 160, 170, 180, 190, 200, 210, 220, 230, 240, 250, 260, 270, 280, 290, 300, 310, 320, 330, 340, 350, 360, 370, 380, 390, \n",
      "valid:, 0, 10, 20, 30, \n",
      "train cost 0.052, train acc 0.99, val cost 1.3, val acc 0.68\n",
      "train auc 1.0, val auc 0.73\n",
      "train prec 0.99, train rec 0.99, val prec 0.72, val rec 0.59\n",
      "Epoch 25:, \n",
      "train:, 0, 10, 20, 30, 40, 50, 60, 70, 80, 90, 100, 110, 120, 130, 140, 150, 160, 170, 180, 190, 200, 210, 220, 230, 240, 250, 260, 270, 280, 290, 300, 310, 320, 330, 340, 350, 360, 370, 380, 390, \n",
      "valid:, 0, 10, 20, 30, \n",
      "train cost 0.045, train acc 0.99, val cost 1.3, val acc 0.67\n",
      "train auc 1.0, val auc 0.73\n",
      "train prec 0.99, train rec 0.99, val prec 0.71, val rec 0.6\n",
      "Epoch 26:, \n",
      "train:, 0, 10, 20, 30, 40, 50, 60, 70, 80, 90, 100, 110, 120, 130, 140, 150, 160, 170, 180, 190, 200, 210, 220, 230, 240, 250, 260, 270, 280, 290, 300, 310, 320, 330, 340, 350, 360, 370, 380, 390, \n",
      "valid:, 0, 10, 20, 30, \n",
      "train cost 0.041, train acc 0.99, val cost 1.3, val acc 0.67\n",
      "train auc 1.0, val auc 0.73\n",
      "train prec 0.99, train rec 0.99, val prec 0.71, val rec 0.56\n",
      "Epoch 27:, \n",
      "train:, 0, 10, 20, 30, 40, 50, 60, 70, 80, 90, 100, 110, 120, 130, 140, 150, 160, 170, 180, 190, 200, 210, 220, 230, 240, 250, 260, 270, 280, 290, 300, 310, 320, 330, 340, 350, 360, 370, 380, 390, \n",
      "valid:, 0, 10, 20, 30, \n",
      "train cost 0.037, train acc 0.99, val cost 1.2, val acc 0.68\n",
      "train auc 1.0, val auc 0.74\n",
      "train prec 0.99, train rec 0.99, val prec 0.69, val rec 0.67\n",
      "Epoch 28:, \n",
      "train:, 0, 10, 20, 30, 40, 50, 60, 70, 80, 90, 100, 110, 120, 130, 140, 150, 160, 170, 180, 190, 200, 210, 220, 230, 240, 250, 260, 270, 280, 290, 300, 310, 320, 330, 340, 350, 360, 370, 380, 390, \n",
      "valid:, 0, 10, 20, 30, \n",
      "train cost 0.035, train acc 0.99, val cost 1.3, val acc 0.68\n",
      "train auc 1.0, val auc 0.73\n",
      "train prec 0.99, train rec 0.99, val prec 0.72, val rec 0.58\n",
      "Epoch 29:, \n",
      "train:, 0, 10, 20, 30, 40, 50, 60, 70, 80, 90, 100, 110, 120, 130, 140, 150, 160, 170, 180, 190, 200, 210, 220, 230, 240, 250, 260, 270, 280, 290, 300, 310, 320, 330, 340, 350, 360, 370, 380, 390, \n",
      "valid:, 0, 10, 20, 30, \n",
      "train cost 0.031, train acc 0.99, val cost 1.4, val acc 0.68\n",
      "train auc 1.0, val auc 0.73\n",
      "train prec 0.99, train rec 0.99, val prec 0.72, val rec 0.59\n",
      "Epoch 30:, \n",
      "train:, 0, 10, 20, 30, 40, 50, 60, 70, 80, 90, 100, 110, 120, 130, 140, 150, 160, 170, 180, 190, 200, 210, 220, 230, 240, 250, 260, 270, 280, 290, 300, 310, 320, 330, 340, 350, 360, 370, 380, 390, \n",
      "valid:, 0, 10, 20, 30, \n",
      "train cost 0.025, train acc 1.0, val cost 1.5, val acc 0.68\n",
      "train auc 1.0, val auc 0.73\n",
      "train prec 1.0, train rec 1.0, val prec 0.72, val rec 0.58\n",
      "Epoch 31:, \n",
      "train:, 0, 10, 20, 30, 40, 50, 60, 70, 80, 90, 100, 110, 120, 130, 140, 150, 160, 170, 180, 190, 200, 210, 220, 230, 240, 250, 260, 270, 280, 290, 300, 310, 320, 330, 340, 350, 360, 370, 380, 390, \n",
      "valid:, 0, 10, 20, 30, \n",
      "train cost 0.023, train acc 1.0, val cost 1.4, val acc 0.68\n",
      "train auc 1.0, val auc 0.74\n",
      "train prec 1.0, train rec 1.0, val prec 0.69, val rec 0.67\n",
      "Epoch 32:, \n",
      "train:, 0, 10, 20, 30, 40, 50, 60, 70, 80, 90, 100, 110, 120, 130, 140, 150, 160, 170, 180, 190, 200, 210, 220, 230, 240, 250, 260, 270, 280, 290, 300, 310, 320, 330, 340, 350, 360, 370, 380, 390, \n",
      "valid:, 0, 10, 20, 30, \n",
      "train cost 0.019, train acc 1.0, val cost 1.7, val acc 0.67\n",
      "train auc 1.0, val auc 0.72\n",
      "train prec 1.0, train rec 1.0, val prec 0.74, val rec 0.52\n",
      "Epoch 33:, \n",
      "train:, 0, 10, 20, 30, 40, 50, 60, 70, 80, 90, 100, 110, 120, 130, 140, 150, 160, 170, 180, 190, 200, 210, 220, 230, 240, 250, 260, 270, 280, 290, 300, 310, 320, 330, 340, 350, 360, 370, 380, 390, \n",
      "valid:, 0, 10, 20, 30, \n",
      "train cost 0.017, train acc 1.0, val cost 1.6, val acc 0.68\n",
      "train auc 1.0, val auc 0.73\n",
      "train prec 1.0, train rec 1.0, val prec 0.74, val rec 0.57\n",
      "Epoch 34:, \n",
      "train:, 0, 10, 20, 30, 40, 50, 60, 70, 80, 90, 100, 110, 120, 130, 140, 150, 160, 170, 180, 190, 200, 210, 220, 230, 240, 250, 260, 270, 280, 290, 300, 310, 320, 330, 340, 350, 360, 370, 380, 390, \n",
      "valid:, 0, 10, 20, 30, \n",
      "train cost 0.018, train acc 1.0, val cost 1.5, val acc 0.68\n",
      "train auc 1.0, val auc 0.74\n",
      "train prec 1.0, train rec 1.0, val prec 0.72, val rec 0.61\n",
      "Epoch 35:, \n",
      "train:, 0, 10, 20, 30, 40, 50, 60, 70, 80, 90, 100, 110, 120, 130, 140, 150, 160, 170, 180, 190, 200, 210, 220, 230, 240, 250, 260, 270, 280, 290, 300, 310, 320, 330, 340, 350, 360, 370, 380, 390, \n",
      "valid:, 0, 10, 20, 30, \n",
      "train cost 0.014, train acc 1.0, val cost 1.7, val acc 0.68\n",
      "train auc 1.0, val auc 0.72\n",
      "train prec 1.0, train rec 1.0, val prec 0.74, val rec 0.54\n",
      "Epoch 36:, \n",
      "train:, 0, 10, 20, 30, 40, 50, 60, 70, 80, 90, 100, 110, 120, 130, 140, 150, 160, 170, 180, 190, 200, 210, 220, 230, 240, 250, 260, 270, 280, 290, 300, 310, 320, 330, 340, 350, 360, 370, 380, 390, \n",
      "valid:, 0, 10, 20, 30, \n",
      "train cost 0.013, train acc 1.0, val cost 1.6, val acc 0.69\n",
      "train auc 1.0, val auc 0.74\n",
      "train prec 1.0, train rec 1.0, val prec 0.71, val rec 0.63\n",
      "Epoch 37:, \n",
      "train:, 0, 10, 20, 30, 40, 50, 60, 70, 80, 90, 100, 110, 120, 130, 140, 150, 160, 170, 180, 190, 200, 210, 220, 230, 240, 250, 260, 270, 280, 290, 300, 310, 320, 330, 340, 350, 360, 370, 380, 390, \n",
      "valid:, 0, 10, 20, 30, \n",
      "train cost 0.015, train acc 1.0, val cost 1.8, val acc 0.67\n",
      "train auc 1.0, val auc 0.72\n",
      "train prec 1.0, train rec 1.0, val prec 0.73, val rec 0.55\n",
      "Epoch 38:, \n",
      "train:, 0, 10, 20, 30, 40, 50, 60, 70, 80, 90, 100, 110, 120, 130, 140, 150, 160, 170, 180, 190, 200, 210, 220, 230, 240, 250, 260, 270, 280, 290, 300, 310, 320, 330, 340, 350, 360, 370, 380, 390, \n",
      "valid:, 0, 10, 20, 30, \n",
      "train cost 0.011, train acc 1.0, val cost 1.8, val acc 0.68\n",
      "train auc 1.0, val auc 0.73\n",
      "train prec 1.0, train rec 1.0, val prec 0.73, val rec 0.58\n",
      "Epoch 39:, \n",
      "train:, 0, 10, 20, 30, 40, 50, 60, 70, 80, 90, 100, 110, 120, 130, 140, 150, 160, 170, 180, 190, 200, 210, 220, 230, 240, 250, 260, 270, 280, 290, 300, 310, 320, 330, 340, 350, 360, 370, 380, 390, \n",
      "valid:, 0, 10, 20, 30, \n",
      "New LR: 4.9e-06\n",
      "train cost 0.0098, train acc 1.0, val cost 1.6, val acc 0.68\n",
      "train auc 1.0, val auc 0.73\n",
      "train prec 1.0, train rec 1.0, val prec 0.72, val rec 0.59\n",
      "Epoch 40:, \n",
      "train:, 0, 10, 20, 30, 40, 50, 60, 70, 80, 90, 100, 110, 120, 130, 140, 150, 160, 170, 180, 190, 200, 210, 220, 230, 240, 250, 260, 270, 280, 290, 300, 310, 320, 330, 340, 350, 360, 370, 380, 390, \n",
      "valid:, 0, 10, 20, 30, \n",
      "train cost 0.0065, train acc 1.0, val cost 1.8, val acc 0.68\n",
      "train auc 1.0, val auc 0.72\n",
      "train prec 1.0, train rec 1.0, val prec 0.71, val rec 0.59\n",
      "Epoch 41:, \n",
      "train:, 0, 10, 20, 30, 40, 50, 60, 70, 80, 90, 100, 110, 120, 130, 140, 150, 160, 170, 180, 190, 200, 210, 220, 230, 240, 250, 260, 270, 280, 290, 300, 310, 320, 330, 340, 350, 360, 370, 380, 390, \n",
      "valid:, 0, 10, 20, 30, \n",
      "train cost 0.0062, train acc 1.0, val cost 1.9, val acc 0.68\n",
      "train auc 1.0, val auc 0.72\n",
      "train prec 1.0, train rec 1.0, val prec 0.73, val rec 0.56\n",
      "Epoch 42:, \n",
      "train:, 0, 10, 20, 30, 40, 50, 60, 70, 80, 90, 100, 110, 120, 130, 140, 150, 160, 170, 180, 190, 200, 210, 220, 230, 240, 250, 260, 270, 280, 290, 300, 310, 320, 330, 340, 350, 360, 370, 380, 390, \n",
      "valid:, 0, 10, 20, 30, \n",
      "train cost 0.0063, train acc 1.0, val cost 1.8, val acc 0.68\n",
      "train auc 1.0, val auc 0.73\n",
      "train prec 1.0, train rec 1.0, val prec 0.7, val rec 0.61\n",
      "Epoch 43:, \n",
      "train:, 0, 10, 20, 30, 40, 50, 60, 70, 80, 90, 100, 110, 120, 130, 140, 150, 160, 170, 180, 190, 200, 210, 220, 230, 240, 250, 260, 270, 280, 290, 300, 310, 320, 330, 340, 350, 360, 370, 380, 390, \n",
      "valid:, 0, 10, 20, 30, \n",
      "train cost 0.0066, train acc 1.0, val cost 1.8, val acc 0.69\n",
      "train auc 1.0, val auc 0.74\n",
      "train prec 1.0, train rec 1.0, val prec 0.71, val rec 0.62\n",
      "Epoch 44:, \n",
      "train:, 0, 10, 20, 30, 40, 50, 60, 70, 80, 90, 100, 110, 120, 130, 140, 150, 160, 170, 180, 190, 200, 210, 220, 230, 240, 250, 260, 270, 280, 290, 300, 310, 320, 330, 340, 350, 360, 370, 380, 390, \n",
      "valid:, 0, 10, 20, 30, \n",
      "train cost 0.0048, train acc 1.0, val cost 1.9, val acc 0.68\n",
      "train auc 1.0, val auc 0.73\n",
      "train prec 1.0, train rec 1.0, val prec 0.73, val rec 0.58\n",
      "Epoch 45:, \n",
      "train:, 0, 10, 20, 30, 40, 50, 60, 70, 80, 90, 100, 110, 120, 130, 140, 150, 160, 170, 180, 190, 200, 210, 220, 230, 240, 250, 260, 270, 280, 290, 300, 310, 320, 330, 340, 350, 360, 370, 380, 390, \n",
      "valid:, 0, 10, 20, 30, \n",
      "train cost 0.0043, train acc 1.0, val cost 1.9, val acc 0.68\n",
      "train auc 1.0, val auc 0.73\n",
      "train prec 1.0, train rec 1.0, val prec 0.72, val rec 0.61\n",
      "Epoch 46:, \n",
      "train:, 0, 10, 20, 30, 40, 50, 60, 70, 80, 90, 100, 110, 120, 130, 140, 150, 160, 170, 180, 190, 200, 210, 220, 230, 240, 250, 260, 270, 280, 290, 300, 310, 320, 330, 340, 350, 360, 370, 380, 390, \n",
      "valid:, 0, 10, 20, 30, \n",
      "train cost 0.0057, train acc 1.0, val cost 2.0, val acc 0.68\n",
      "train auc 1.0, val auc 0.73\n",
      "train prec 1.0, train rec 1.0, val prec 0.73, val rec 0.57\n",
      "Epoch 47:, \n",
      "train:, 0, 10, 20, 30, 40, 50, 60, 70, 80, 90, 100, 110, 120, 130, 140, 150, 160, 170, 180, 190, 200, 210, 220, 230, 240, 250, 260, 270, 280, 290, 300, 310, 320, 330, 340, 350, 360, 370, 380, 390, \n",
      "valid:, 0, 10, 20, 30, \n",
      "train cost 0.0061, train acc 1.0, val cost 2.0, val acc 0.67\n",
      "train auc 1.0, val auc 0.72\n",
      "train prec 1.0, train rec 1.0, val prec 0.72, val rec 0.56\n",
      "Epoch 48:, \n",
      "train:, 0, 10, 20, 30, 40, 50, 60, 70, 80, 90, 100, 110, 120, 130, 140, 150, 160, 170, 180, 190, 200, 210, 220, 230, 240, 250, 260, 270, 280, 290, 300, 310, 320, 330, 340, 350, 360, 370, 380, 390, \n",
      "valid:, 0, 10, 20, 30, \n",
      "train cost 0.0046, train acc 1.0, val cost 2.1, val acc 0.67\n",
      "train auc 1.0, val auc 0.72\n",
      "train prec 1.0, train rec 1.0, val prec 0.74, val rec 0.53\n",
      "Epoch 49:, \n",
      "train:, 0, 10, 20, 30, 40, 50, 60, 70, 80, 90, 100, 110, 120, 130, 140, 150, 160, 170, 180, 190, 200, 210, 220, 230, 240, 250, 260, 270, 280, 290, 300, 310, 320, 330, 340, 350, 360, 370, 380, 390, \n",
      "valid:, 0, 10, 20, 30, \n",
      "train cost 0.0032, train acc 1.0, val cost 2.0, val acc 0.68\n",
      "train auc 1.0, val auc 0.73\n",
      "train prec 1.0, train rec 1.0, val prec 0.71, val rec 0.6\n",
      "Epoch 50:, \n",
      "train:, 0, 10, 20, 30, 40, 50, 60, 70, 80, 90, 100, 110, 120, 130, 140, 150, 160, 170, 180, 190, 200, 210, 220, 230, 240, 250, 260, 270, 280, 290, 300, 310, 320, 330, 340, 350, 360, 370, 380, 390, \n",
      "valid:, 0, 10, 20, 30, \n",
      "train cost 0.0029, train acc 1.0, val cost 2.0, val acc 0.68\n",
      "train auc 1.0, val auc 0.73\n",
      "train prec 1.0, train rec 1.0, val prec 0.74, val rec 0.55\n",
      "Epoch 51:, \n",
      "train:, 0, 10, 20, 30, 40, 50, 60, 70, 80, 90, 100, 110, 120, 130, 140, 150, 160, 170, 180, 190, 200, 210, 220, 230, 240, 250, 260, 270, 280, 290, 300, 310, 320, 330, 340, 350, 360, 370, 380, 390, \n",
      "valid:, 0, 10, 20, 30, \n",
      "train cost 0.0074, train acc 1.0, val cost 1.9, val acc 0.68\n",
      "train auc 1.0, val auc 0.73\n",
      "train prec 1.0, train rec 1.0, val prec 0.72, val rec 0.59\n",
      "Epoch 52:, \n",
      "train:, 0, 10, 20, 30, 40, 50, 60, 70, 80, 90, 100, 110, 120, 130, 140, 150, 160, 170, 180, 190, 200, 210, 220, 230, 240, 250, 260, 270, 280, 290, 300, 310, 320, 330, 340, 350, 360, 370, 380, 390, \n",
      "valid:, 0, 10, 20, 30, \n",
      "train cost 0.0027, train acc 1.0, val cost 2.1, val acc 0.67\n",
      "train auc 1.0, val auc 0.72\n",
      "train prec 1.0, train rec 1.0, val prec 0.73, val rec 0.56\n",
      "Epoch 53:, \n",
      "train:, 0, 10, 20, 30, 40, 50, 60, 70, 80, 90, 100, 110, 120, 130, 140, 150, 160, 170, 180, 190, 200, 210, 220, 230, 240, 250, 260, 270, 280, 290, 300, 310, 320, 330, 340, 350, 360, 370, 380, 390, \n",
      "valid:, 0, 10, 20, 30, \n",
      "train cost 0.003, train acc 1.0, val cost 2.2, val acc 0.68\n",
      "train auc 1.0, val auc 0.72\n",
      "train prec 1.0, train rec 1.0, val prec 0.75, val rec 0.56\n",
      "Epoch 54:, \n",
      "train:, 0, 10, 20, 30, 40, 50, 60, 70, 80, 90, 100, 110, 120, 130, 140, 150, 160, 170, 180, 190, 200, 210, 220, 230, 240, 250, 260, 270, 280, 290, 300, 310, 320, 330, 340, 350, 360, 370, 380, 390, \n",
      "valid:, 0, 10, 20, 30, \n",
      "train cost 0.0022, train acc 1.0, val cost 2.0, val acc 0.68\n",
      "train auc 1.0, val auc 0.73\n",
      "train prec 1.0, train rec 1.0, val prec 0.72, val rec 0.6\n",
      "Epoch 55:, \n",
      "train:, 0, 10, 20, 30, 40, 50, 60, 70, 80, 90, 100, 110, 120, 130, 140, 150, 160, 170, 180, 190, 200, 210, 220, 230, 240, 250, 260, 270, 280, 290, 300, 310, 320, 330, 340, 350, 360, 370, 380, 390, \n",
      "valid:, 0, 10, 20, 30, \n",
      "train cost 0.0027, train acc 1.0, val cost 2.0, val acc 0.69\n",
      "train auc 1.0, val auc 0.73\n",
      "train prec 1.0, train rec 1.0, val prec 0.73, val rec 0.61\n",
      "Epoch 56:, \n",
      "train:, 0, 10, 20, 30, 40, 50, 60, 70, 80, 90, 100, 110, 120, 130, 140, 150, 160, 170, 180, 190, 200, 210, 220, 230, 240, 250, 260, 270, 280, 290, 300, 310, 320, 330, 340, 350, 360, 370, 380, 390, \n",
      "valid:, 0, 10, 20, 30, \n",
      "train cost 0.0069, train acc 1.0, val cost 1.9, val acc 0.68\n",
      "train auc 1.0, val auc 0.73\n",
      "train prec 1.0, train rec 1.0, val prec 0.71, val rec 0.62\n",
      "Epoch 57:, \n",
      "train:, 0, 10, 20, 30, 40, 50, 60, 70, 80, 90, 100, 110, 120, 130, 140, 150, 160, 170, 180, 190, 200, 210, 220, 230, 240, 250, 260, 270, 280, 290, 300, 310, 320, 330, 340, 350, 360, 370, 380, 390, \n",
      "valid:, 0, 10, 20, 30, \n",
      "train cost 0.0018, train acc 1.0, val cost 2.1, val acc 0.69\n",
      "train auc 1.0, val auc 0.73\n",
      "train prec 1.0, train rec 1.0, val prec 0.73, val rec 0.59\n",
      "Epoch 58:, \n",
      "train:, 0, 10, 20, 30, 40, 50, 60, 70, 80, 90, 100, 110, 120, 130, 140, 150, 160, 170, 180, 190, 200, 210, 220, 230, 240, 250, 260, 270, 280, 290, 300, 310, 320, 330, 340, 350, 360, 370, 380, 390, \n",
      "valid:, 0, 10, 20, 30, \n",
      "train cost 0.0025, train acc 1.0, val cost 2.0, val acc 0.68\n",
      "train auc 1.0, val auc 0.73\n",
      "train prec 1.0, train rec 1.0, val prec 0.71, val rec 0.62\n",
      "Epoch 59:, \n",
      "train:, 0, 10, 20, 30, 40, 50, 60, 70, 80, 90, 100, 110, 120, 130, 140, 150, 160, 170, 180, 190, 200, 210, 220, 230, 240, 250, 260, 270, 280, 290, 300, 310, 320, 330, 340, 350, 360, 370, 380, 390, \n",
      "valid:, 0, 10, 20, 30, \n",
      "New LR: 3.4299999999999993e-06\n",
      "train cost 0.0014, train acc 1.0, val cost 2.3, val acc 0.68\n",
      "train auc 1.0, val auc 0.72\n",
      "train prec 1.0, train rec 1.0, val prec 0.74, val rec 0.57\n"
     ]
    },
    {
     "data": {
      "text/plain": [
       "<matplotlib.figure.Figure at 0x7f7c10ab7cf8>"
      ]
     },
     "metadata": {},
     "output_type": "display_data"
    }
   ],
   "source": [
    "NUM_EPOCHS = 60\n",
    "\n",
    "valid_accs, train_accs, test_accs = [], [], []\n",
    "valid_precs, train_precs, valid_recs, train_recs = [], [], [], []\n",
    "train_costs, valid_costs = [], []\n",
    "train_aucs, valid_aucs = [], []\n",
    "\n",
    "learning_rate=0.00001\n",
    "# define which variables are included in the training\n",
    "tr_op = train_op\n",
    "\n",
    "\n",
    "print('Number of epochs: %s' % NUM_EPOCHS)\n",
    "\n",
    "plt.figure(figsize=(20,10))\n",
    "\n",
    "try:\n",
    "    for n in range(NUM_EPOCHS):\n",
    "        print(\"Epoch %d:\" % n, end=', ')\n",
    "        print('\\ntrain:', end=', ')\n",
    "        train_cost, train_acc, train_prec, train_rec, train_summary, train_auc = train_epoch(learning_rate, tr_op)\n",
    "        train_costs += [train_cost]\n",
    "        train_accs += [train_acc]\n",
    "        train_precs += [train_prec]\n",
    "        train_recs += [train_rec]\n",
    "        train_aucs += [train_auc]\n",
    "        print('valid:', end=', ')\n",
    "        valid_cost, valid_acc, preds, valid_prec, valid_rec, valid_summary, valid_auc = eval_epoch()\n",
    "        valid_costs += [valid_cost]\n",
    "        valid_accs += [valid_acc]\n",
    "        valid_precs += [valid_prec]\n",
    "        valid_recs += [valid_rec]\n",
    "        valid_aucs += [valid_auc]\n",
    "\n",
    "        # learning rate annealing\n",
    "        if (n+1) % 20 == 0:\n",
    "            learning_rate = learning_rate * 0.7\n",
    "            print(\"New LR:\", learning_rate)\n",
    "            \n",
    "        if n == 5:\n",
    "            tr_op = train_op2\n",
    "            print(\"New train_op!\")\n",
    "            \n",
    "        if n == 15:\n",
    "            tr_op = train_op3\n",
    "            print(\"New train_op!\")\n",
    "\n",
    "\n",
    "        print(\"train cost {0:.2}, train acc {1:.2}, val cost {2:.2}, val acc {3:.2}\".format(\n",
    "                train_cost, train_acc, valid_cost, valid_acc))\n",
    "        print(\"train auc {0:.2}, val auc {1:.2}\". format(train_auc, valid_auc))\n",
    "        print(\"train prec {0:.2}, train rec {1:.2}, val prec {2:.2}, val rec {3:.2}\". format(\n",
    "                train_prec, train_rec, valid_prec, valid_rec))\n",
    "        \n",
    "except KeyboardInterrupt:\n",
    "    pass"
   ]
  },
  {
   "cell_type": "code",
   "execution_count": 148,
   "metadata": {
    "collapsed": false
   },
   "outputs": [
    {
     "data": {
      "image/png": "[encoded data removed]",
      "text/plain": [
       "<matplotlib.figure.Figure at 0x7f7bcc264eb8>"
      ]
     },
     "metadata": {},
     "output_type": "display_data"
    }
   ],
   "source": [
    "plt.figure(figsize=(9,9))\n",
    "plt.plot(np.array(train_accs), label='Training Acc')\n",
    "plt.plot(np.array(valid_accs), label='Validation Acc')\n",
    "plt.plot(np.array(train_aucs), label='Train AUC')\n",
    "plt.plot(np.array(valid_aucs), label='Validation AUC')\n",
    "plt.legend(fontsize=20)\n",
    "plt.xlabel('Epoch', fontsize=20)\n",
    "plt.savefig('output/TL_ACC_AUC')\n",
    "plt.show()"
   ]
  },
  {
   "cell_type": "markdown",
   "metadata": {},
   "source": [
    "## Test data"
   ]
  },
  {
   "cell_type": "code",
   "execution_count": 70,
   "metadata": {
    "collapsed": false
   },
   "outputs": [
    {
     "name": "stdout",
     "output_type": "stream",
     "text": [
      "Found 617 images belonging to 2 classes.\n",
      "batch no 1, number of samples: 100\n",
      "batch no 2, number of samples: 100\n",
      "batch no 3, number of samples: 100\n",
      "batch no 4, number of samples: 100\n",
      "batch no 5, number of samples: 100\n",
      "batch no 6, number of samples: 100\n",
      "batch no 7, number of samples: 17\n"
     ]
    }
   ],
   "source": [
    "test_generator = datagen.flow_from_directory(\n",
    "    test_data_dir,\n",
    "    target_size=(img_height, img_width),\n",
    "    batch_size=BATCH_SIZE,\n",
    "    class_mode='categorical',\n",
    "    shuffle=False)\n",
    "\n",
    "num_samples = test_generator.n\n",
    "num_batches = int(np.ceil(num_samples / float(BATCH_SIZE)))\n",
    "\n",
    "test_logits = np.zeros((num_samples, 2))\n",
    "y = np.zeros((num_samples, 2))\n",
    "\n",
    "for i in range(num_batches):\n",
    "\n",
    "    x_batch_test, y_batch_test = test_generator.next()\n",
    "    n_batch = x_batch_test.shape[0]\n",
    "    print(\"batch no {}, number of samples: {}\".format(i+1, n_batch))\n",
    "    fetches_test = [vgg16_out, logits, prediction, accuracy, precision, recall, auc_op]\n",
    "    feed_dict_test= {x_pl: x_batch_test, y_pl: y_batch_test}\n",
    "    res = sess.run(fetches=fetches_test, feed_dict=feed_dict_test)\n",
    "    \n",
    "    test_logits[i*BATCH_SIZE: i*BATCH_SIZE + n_batch, :] = res[1]\n",
    "    y[i*BATCH_SIZE: i*BATCH_SIZE + n_batch, :] = y_batch_test"
   ]
  },
  {
   "cell_type": "code",
   "execution_count": 142,
   "metadata": {
    "collapsed": false
   },
   "outputs": [
    {
     "name": "stdout",
     "output_type": "stream",
     "text": [
      "Sklearn auc: 0.7347532588454376\n"
     ]
    }
   ],
   "source": [
    "# For the ROC curve\n",
    "from sklearn import metrics\n",
    "fpr, tpr, thresholds = metrics.roc_curve(y[:, 0], test_logits[:, 0])\n",
    "auc = metrics.auc(fpr, tpr)\n",
    "print(\"Sklearn auc: {}\".format(auc))"
   ]
  },
  {
   "cell_type": "code",
   "execution_count": 147,
   "metadata": {
    "collapsed": false
   },
   "outputs": [
    {
     "data": {
      "image/png": "[encoded data removed]",
      "text/plain": [
       "<matplotlib.figure.Figure at 0x7f7bf01f01d0>"
      ]
     },
     "metadata": {},
     "output_type": "display_data"
    }
   ],
   "source": [
    "plt.plot(fpr,tpr)\n",
    "plt.plot(fpr, tpr, color='darkorange',\n",
    "         lw=2, label='ROC curve (area = {0:0.2f})'.format(auc))\n",
    "plt.plot([0, 1], [0, 1], color='navy', lw=2, linestyle='--')\n",
    "plt.xlim([0.0, 1.0])\n",
    "plt.ylim([0.0, 1.05])\n",
    "plt.xlabel('False Positive Rate')\n",
    "plt.ylabel('True Positive Rate')\n",
    "plt.title('Receiver operating characteristic')\n",
    "plt.legend(loc=\"lower right\")\n",
    "plt.savefig('output/TL_ROC')\n",
    "plt.show()"
   ]
  },
  {
   "cell_type": "code",
   "execution_count": 138,
   "metadata": {
    "collapsed": false
   },
   "outputs": [
    {
     "name": "stdout",
     "output_type": "stream",
     "text": [
      "acc: 0.76, auc: 0.73\n"
     ]
    }
   ],
   "source": [
    "acc = np.sum(np.equal(np.argmax(y, axis=1), np.argmax(test_logits, axis=1)))/num_samples\n",
    "\n",
    "print(\"acc: {0:0.2f}, auc: {1:0.2f}\".format(acc, auc))"
   ]
  },
  {
   "cell_type": "code",
   "execution_count": 140,
   "metadata": {
    "collapsed": false
   },
   "outputs": [
    {
     "name": "stdout",
     "output_type": "stream",
     "text": [
      "430 41 39 107\n",
      "Precision, Recall, TPR, FPR\n",
      "0.91684434968 0.800744878957 0.800744878957 0.4875\n"
     ]
    }
   ],
   "source": [
    "# indices for positive and negative examples\n",
    "idxp = np.argmax(y, axis=1) == 0\n",
    "idxn = np.argmax(y, axis=1) == 1\n",
    "\n",
    "tp = np.sum(np.equal(np.argmax(y[idxp, :], axis=1), np.argmax(test_logits[idxp, :], axis=1)))\n",
    "tn = np.sum(np.equal(np.argmax(y[idxn, :], axis=1), np.argmax(test_logits[idxn, :], axis=1)))\n",
    "fp = np.sum(np.argmax(y[idxn, :], axis=1) != np.argmax(test_logits[idxn, :], axis=1))\n",
    "fn = np.sum(np.argmax(y[idxp, :], axis=1) != np.argmax(test_logits[idxp, :], axis=1))\n",
    "\n",
    "print(tp, tn, fp, fn)\n",
    "\n",
    "prec = tp / (tp + fp)\n",
    "rec = tp / (tp + fn)\n",
    "tpr = tp / (tp + fn)\n",
    "fpr = fp / (fp + tn)\n",
    "\n",
    "print(\"Precision, Recall, TPR, FPR\")\n",
    "print(prec, rec, tpr, fpr)"
   ]
  },
  {
   "cell_type": "markdown",
   "metadata": {},
   "source": [
    "## Inspect classifications on the test set"
   ]
  },
  {
   "cell_type": "code",
   "execution_count": null,
   "metadata": {
    "collapsed": false
   },
   "outputs": [],
   "source": [
    "n = 17\n",
    "offset = 0\n",
    "plt.figure(figsize=(100,100))\n",
    "for i in range(n):\n",
    "    plt.subplot(n,1,i+1)\n",
    "    img = x_batch_test[i + offset]\n",
    "    mi = np.min(img)\n",
    "    img = img - mi\n",
    "    ma = np.max(img)\n",
    "    img = img / ma\n",
    "    plt.imshow(img)\n",
    "    plt.title('logits: {0:3.2}  {1:3.2}, truth: {2}'.format(res[1][i][0],res[1][i][1], y_batch_test[i+offset]))"
   ]
  },
  {
   "cell_type": "markdown",
   "metadata": {},
   "source": [
    "## Save session"
   ]
  },
  {
   "cell_type": "code",
   "execution_count": null,
   "metadata": {
    "collapsed": false
   },
   "outputs": [],
   "source": [
    "saver = tf.train.Saver()\n",
    "saver.save(sess, \"output/01TL.ckpt\")"
   ]
  }
 ],
 "metadata": {
  "kernelspec": {
   "display_name": "Python 3",
   "language": "python",
   "name": "python3"
  },
  "language_info": {
   "codemirror_mode": {
    "name": "ipython",
    "version": 3
   },
   "file_extension": ".py",
   "mimetype": "text/x-python",
   "name": "python",
   "nbconvert_exporter": "python",
   "pygments_lexer": "ipython3",
   "version": "3.5.2"
  }
 },
 "nbformat": 4,
 "nbformat_minor": 2
}
